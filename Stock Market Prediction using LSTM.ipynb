{
 "cells": [
  {
   "cell_type": "code",
   "execution_count": 1,
   "metadata": {
    "scrolled": true
   },
   "outputs": [],
   "source": [
    "import pandas_datareader as pdr"
   ]
  },
  {
   "cell_type": "code",
   "execution_count": 2,
   "metadata": {},
   "outputs": [
    {
     "data": {
      "text/plain": [
       "'/Users/puranshu'"
      ]
     },
     "execution_count": 2,
     "metadata": {},
     "output_type": "execute_result"
    }
   ],
   "source": [
    "pwd"
   ]
  },
  {
   "cell_type": "code",
   "execution_count": 3,
   "metadata": {},
   "outputs": [
    {
     "name": "stdout",
     "output_type": "stream",
     "text": [
      "/Users/puranshu/Desktop/NLP\n"
     ]
    }
   ],
   "source": [
    "cd '/Users/puranshu/Desktop/NLP'"
   ]
  },
  {
   "cell_type": "code",
   "execution_count": 5,
   "metadata": {},
   "outputs": [],
   "source": [
    "df = pdr.get_data_tiingo('AAPL', api_key = 'e90f05ea9c5352cb31fed1cdd535ca87df9426d1') \n",
    "#https://api.tiingo.com/documentation/general/overview"
   ]
  },
  {
   "cell_type": "code",
   "execution_count": 6,
   "metadata": {},
   "outputs": [],
   "source": [
    "df.to_csv('AAPL.csv')"
   ]
  },
  {
   "cell_type": "code",
   "execution_count": 7,
   "metadata": {},
   "outputs": [],
   "source": [
    "import pandas as pd"
   ]
  },
  {
   "cell_type": "code",
   "execution_count": 8,
   "metadata": {},
   "outputs": [],
   "source": [
    "df = pd.read_csv('AAPL.csv')"
   ]
  },
  {
   "cell_type": "code",
   "execution_count": 10,
   "metadata": {},
   "outputs": [
    {
     "data": {
      "text/html": [
       "<div>\n",
       "<style scoped>\n",
       "    .dataframe tbody tr th:only-of-type {\n",
       "        vertical-align: middle;\n",
       "    }\n",
       "\n",
       "    .dataframe tbody tr th {\n",
       "        vertical-align: top;\n",
       "    }\n",
       "\n",
       "    .dataframe thead th {\n",
       "        text-align: right;\n",
       "    }\n",
       "</style>\n",
       "<table border=\"1\" class=\"dataframe\">\n",
       "  <thead>\n",
       "    <tr style=\"text-align: right;\">\n",
       "      <th></th>\n",
       "      <th>symbol</th>\n",
       "      <th>date</th>\n",
       "      <th>close</th>\n",
       "      <th>high</th>\n",
       "      <th>low</th>\n",
       "      <th>open</th>\n",
       "      <th>volume</th>\n",
       "      <th>adjClose</th>\n",
       "      <th>adjHigh</th>\n",
       "      <th>adjLow</th>\n",
       "      <th>adjOpen</th>\n",
       "      <th>adjVolume</th>\n",
       "      <th>divCash</th>\n",
       "      <th>splitFactor</th>\n",
       "    </tr>\n",
       "  </thead>\n",
       "  <tbody>\n",
       "    <tr>\n",
       "      <th>0</th>\n",
       "      <td>AAPL</td>\n",
       "      <td>2016-06-28 00:00:00+00:00</td>\n",
       "      <td>93.59</td>\n",
       "      <td>93.660</td>\n",
       "      <td>92.14</td>\n",
       "      <td>92.90</td>\n",
       "      <td>40444914</td>\n",
       "      <td>21.854524</td>\n",
       "      <td>21.870870</td>\n",
       "      <td>21.515929</td>\n",
       "      <td>21.693399</td>\n",
       "      <td>161779656</td>\n",
       "      <td>0.0</td>\n",
       "      <td>1.0</td>\n",
       "    </tr>\n",
       "    <tr>\n",
       "      <th>1</th>\n",
       "      <td>AAPL</td>\n",
       "      <td>2016-06-29 00:00:00+00:00</td>\n",
       "      <td>94.40</td>\n",
       "      <td>94.550</td>\n",
       "      <td>93.63</td>\n",
       "      <td>93.97</td>\n",
       "      <td>36531006</td>\n",
       "      <td>22.043669</td>\n",
       "      <td>22.078696</td>\n",
       "      <td>21.863864</td>\n",
       "      <td>21.943259</td>\n",
       "      <td>146124024</td>\n",
       "      <td>0.0</td>\n",
       "      <td>1.0</td>\n",
       "    </tr>\n",
       "    <tr>\n",
       "      <th>2</th>\n",
       "      <td>AAPL</td>\n",
       "      <td>2016-06-30 00:00:00+00:00</td>\n",
       "      <td>95.60</td>\n",
       "      <td>95.770</td>\n",
       "      <td>94.30</td>\n",
       "      <td>94.44</td>\n",
       "      <td>35836356</td>\n",
       "      <td>22.323886</td>\n",
       "      <td>22.363583</td>\n",
       "      <td>22.020318</td>\n",
       "      <td>22.053010</td>\n",
       "      <td>143345424</td>\n",
       "      <td>0.0</td>\n",
       "      <td>1.0</td>\n",
       "    </tr>\n",
       "    <tr>\n",
       "      <th>3</th>\n",
       "      <td>AAPL</td>\n",
       "      <td>2016-07-01 00:00:00+00:00</td>\n",
       "      <td>95.89</td>\n",
       "      <td>96.465</td>\n",
       "      <td>95.33</td>\n",
       "      <td>95.49</td>\n",
       "      <td>26026540</td>\n",
       "      <td>22.391605</td>\n",
       "      <td>22.525875</td>\n",
       "      <td>22.260837</td>\n",
       "      <td>22.298199</td>\n",
       "      <td>104106160</td>\n",
       "      <td>0.0</td>\n",
       "      <td>1.0</td>\n",
       "    </tr>\n",
       "    <tr>\n",
       "      <th>4</th>\n",
       "      <td>AAPL</td>\n",
       "      <td>2016-07-05 00:00:00+00:00</td>\n",
       "      <td>94.99</td>\n",
       "      <td>95.400</td>\n",
       "      <td>94.46</td>\n",
       "      <td>95.39</td>\n",
       "      <td>27705210</td>\n",
       "      <td>22.181442</td>\n",
       "      <td>22.277183</td>\n",
       "      <td>22.057680</td>\n",
       "      <td>22.274848</td>\n",
       "      <td>110820840</td>\n",
       "      <td>0.0</td>\n",
       "      <td>1.0</td>\n",
       "    </tr>\n",
       "  </tbody>\n",
       "</table>\n",
       "</div>"
      ],
      "text/plain": [
       "  symbol                       date  close    high    low   open    volume  \\\n",
       "0   AAPL  2016-06-28 00:00:00+00:00  93.59  93.660  92.14  92.90  40444914   \n",
       "1   AAPL  2016-06-29 00:00:00+00:00  94.40  94.550  93.63  93.97  36531006   \n",
       "2   AAPL  2016-06-30 00:00:00+00:00  95.60  95.770  94.30  94.44  35836356   \n",
       "3   AAPL  2016-07-01 00:00:00+00:00  95.89  96.465  95.33  95.49  26026540   \n",
       "4   AAPL  2016-07-05 00:00:00+00:00  94.99  95.400  94.46  95.39  27705210   \n",
       "\n",
       "    adjClose    adjHigh     adjLow    adjOpen  adjVolume  divCash  splitFactor  \n",
       "0  21.854524  21.870870  21.515929  21.693399  161779656      0.0          1.0  \n",
       "1  22.043669  22.078696  21.863864  21.943259  146124024      0.0          1.0  \n",
       "2  22.323886  22.363583  22.020318  22.053010  143345424      0.0          1.0  \n",
       "3  22.391605  22.525875  22.260837  22.298199  104106160      0.0          1.0  \n",
       "4  22.181442  22.277183  22.057680  22.274848  110820840      0.0          1.0  "
      ]
     },
     "execution_count": 10,
     "metadata": {},
     "output_type": "execute_result"
    }
   ],
   "source": [
    "df.head()"
   ]
  },
  {
   "cell_type": "code",
   "execution_count": 11,
   "metadata": {},
   "outputs": [
    {
     "data": {
      "text/html": [
       "<div>\n",
       "<style scoped>\n",
       "    .dataframe tbody tr th:only-of-type {\n",
       "        vertical-align: middle;\n",
       "    }\n",
       "\n",
       "    .dataframe tbody tr th {\n",
       "        vertical-align: top;\n",
       "    }\n",
       "\n",
       "    .dataframe thead th {\n",
       "        text-align: right;\n",
       "    }\n",
       "</style>\n",
       "<table border=\"1\" class=\"dataframe\">\n",
       "  <thead>\n",
       "    <tr style=\"text-align: right;\">\n",
       "      <th></th>\n",
       "      <th>symbol</th>\n",
       "      <th>date</th>\n",
       "      <th>close</th>\n",
       "      <th>high</th>\n",
       "      <th>low</th>\n",
       "      <th>open</th>\n",
       "      <th>volume</th>\n",
       "      <th>adjClose</th>\n",
       "      <th>adjHigh</th>\n",
       "      <th>adjLow</th>\n",
       "      <th>adjOpen</th>\n",
       "      <th>adjVolume</th>\n",
       "      <th>divCash</th>\n",
       "      <th>splitFactor</th>\n",
       "    </tr>\n",
       "  </thead>\n",
       "  <tbody>\n",
       "    <tr>\n",
       "      <th>1253</th>\n",
       "      <td>AAPL</td>\n",
       "      <td>2021-06-21 00:00:00+00:00</td>\n",
       "      <td>132.30</td>\n",
       "      <td>132.41</td>\n",
       "      <td>129.21</td>\n",
       "      <td>130.30</td>\n",
       "      <td>79663316</td>\n",
       "      <td>132.30</td>\n",
       "      <td>132.41</td>\n",
       "      <td>129.21</td>\n",
       "      <td>130.30</td>\n",
       "      <td>79663316</td>\n",
       "      <td>0.0</td>\n",
       "      <td>1.0</td>\n",
       "    </tr>\n",
       "    <tr>\n",
       "      <th>1254</th>\n",
       "      <td>AAPL</td>\n",
       "      <td>2021-06-22 00:00:00+00:00</td>\n",
       "      <td>133.98</td>\n",
       "      <td>134.08</td>\n",
       "      <td>131.62</td>\n",
       "      <td>132.13</td>\n",
       "      <td>74783618</td>\n",
       "      <td>133.98</td>\n",
       "      <td>134.08</td>\n",
       "      <td>131.62</td>\n",
       "      <td>132.13</td>\n",
       "      <td>74783618</td>\n",
       "      <td>0.0</td>\n",
       "      <td>1.0</td>\n",
       "    </tr>\n",
       "    <tr>\n",
       "      <th>1255</th>\n",
       "      <td>AAPL</td>\n",
       "      <td>2021-06-23 00:00:00+00:00</td>\n",
       "      <td>133.70</td>\n",
       "      <td>134.32</td>\n",
       "      <td>133.23</td>\n",
       "      <td>133.77</td>\n",
       "      <td>60214200</td>\n",
       "      <td>133.70</td>\n",
       "      <td>134.32</td>\n",
       "      <td>133.23</td>\n",
       "      <td>133.77</td>\n",
       "      <td>60214200</td>\n",
       "      <td>0.0</td>\n",
       "      <td>1.0</td>\n",
       "    </tr>\n",
       "    <tr>\n",
       "      <th>1256</th>\n",
       "      <td>AAPL</td>\n",
       "      <td>2021-06-24 00:00:00+00:00</td>\n",
       "      <td>133.41</td>\n",
       "      <td>134.64</td>\n",
       "      <td>132.93</td>\n",
       "      <td>134.45</td>\n",
       "      <td>68710998</td>\n",
       "      <td>133.41</td>\n",
       "      <td>134.64</td>\n",
       "      <td>132.93</td>\n",
       "      <td>134.45</td>\n",
       "      <td>68710998</td>\n",
       "      <td>0.0</td>\n",
       "      <td>1.0</td>\n",
       "    </tr>\n",
       "    <tr>\n",
       "      <th>1257</th>\n",
       "      <td>AAPL</td>\n",
       "      <td>2021-06-25 00:00:00+00:00</td>\n",
       "      <td>133.11</td>\n",
       "      <td>133.89</td>\n",
       "      <td>132.81</td>\n",
       "      <td>133.46</td>\n",
       "      <td>70783746</td>\n",
       "      <td>133.11</td>\n",
       "      <td>133.89</td>\n",
       "      <td>132.81</td>\n",
       "      <td>133.46</td>\n",
       "      <td>70783746</td>\n",
       "      <td>0.0</td>\n",
       "      <td>1.0</td>\n",
       "    </tr>\n",
       "  </tbody>\n",
       "</table>\n",
       "</div>"
      ],
      "text/plain": [
       "     symbol                       date   close    high     low    open  \\\n",
       "1253   AAPL  2021-06-21 00:00:00+00:00  132.30  132.41  129.21  130.30   \n",
       "1254   AAPL  2021-06-22 00:00:00+00:00  133.98  134.08  131.62  132.13   \n",
       "1255   AAPL  2021-06-23 00:00:00+00:00  133.70  134.32  133.23  133.77   \n",
       "1256   AAPL  2021-06-24 00:00:00+00:00  133.41  134.64  132.93  134.45   \n",
       "1257   AAPL  2021-06-25 00:00:00+00:00  133.11  133.89  132.81  133.46   \n",
       "\n",
       "        volume  adjClose  adjHigh  adjLow  adjOpen  adjVolume  divCash  \\\n",
       "1253  79663316    132.30   132.41  129.21   130.30   79663316      0.0   \n",
       "1254  74783618    133.98   134.08  131.62   132.13   74783618      0.0   \n",
       "1255  60214200    133.70   134.32  133.23   133.77   60214200      0.0   \n",
       "1256  68710998    133.41   134.64  132.93   134.45   68710998      0.0   \n",
       "1257  70783746    133.11   133.89  132.81   133.46   70783746      0.0   \n",
       "\n",
       "      splitFactor  \n",
       "1253          1.0  \n",
       "1254          1.0  \n",
       "1255          1.0  \n",
       "1256          1.0  \n",
       "1257          1.0  "
      ]
     },
     "execution_count": 11,
     "metadata": {},
     "output_type": "execute_result"
    }
   ],
   "source": [
    "df.tail()"
   ]
  },
  {
   "cell_type": "code",
   "execution_count": 12,
   "metadata": {},
   "outputs": [],
   "source": [
    "df1 = df.reset_index()['close']"
   ]
  },
  {
   "cell_type": "code",
   "execution_count": 14,
   "metadata": {},
   "outputs": [
    {
     "data": {
      "text/plain": [
       "(1258,)"
      ]
     },
     "execution_count": 14,
     "metadata": {},
     "output_type": "execute_result"
    }
   ],
   "source": [
    "df1.shape"
   ]
  },
  {
   "cell_type": "code",
   "execution_count": 16,
   "metadata": {},
   "outputs": [
    {
     "data": {
      "text/plain": [
       "[<matplotlib.lines.Line2D at 0x7fb942bef0a0>]"
      ]
     },
     "execution_count": 16,
     "metadata": {},
     "output_type": "execute_result"
    },
    {
     "data": {
      "image/png": "[encoded data removed]",
      "text/plain": [
       "<Figure size 432x288 with 1 Axes>"
      ]
     },
     "metadata": {
      "needs_background": "light"
     },
     "output_type": "display_data"
    }
   ],
   "source": [
    "import matplotlib.pyplot as plt\n",
    "plt.plot(df1)"
   ]
  },
  {
   "cell_type": "markdown",
   "metadata": {},
   "source": [
    "LSTM are sensitive to the scale of data, thats why we apply min max scaler"
   ]
  },
  {
   "cell_type": "code",
   "execution_count": 17,
   "metadata": {},
   "outputs": [],
   "source": [
    "import numpy as np"
   ]
  },
  {
   "cell_type": "code",
   "execution_count": 18,
   "metadata": {},
   "outputs": [],
   "source": [
    "from sklearn.preprocessing import MinMaxScaler\n",
    "scaler = MinMaxScaler(feature_range=(0,1))\n",
    "df1 = scaler.fit_transform(np.array(df1).reshape(-1,1))"
   ]
  },
  {
   "cell_type": "code",
   "execution_count": 19,
   "metadata": {},
   "outputs": [
    {
     "data": {
      "text/plain": [
       "(1258, 1)"
      ]
     },
     "execution_count": 19,
     "metadata": {},
     "output_type": "execute_result"
    }
   ],
   "source": [
    "df1.shape"
   ]
  },
  {
   "cell_type": "code",
   "execution_count": 20,
   "metadata": {},
   "outputs": [
    {
     "data": {
      "text/plain": [
       "array([[0.        ],\n",
       "       [0.00196364],\n",
       "       [0.00487273],\n",
       "       ...,\n",
       "       [0.09723636],\n",
       "       [0.09653333],\n",
       "       [0.09580606]])"
      ]
     },
     "execution_count": 20,
     "metadata": {},
     "output_type": "execute_result"
    }
   ],
   "source": [
    "df1"
   ]
  },
  {
   "cell_type": "markdown",
   "metadata": {},
   "source": [
    "split train and test because data next data is dependent on prev data we will split it in oredered manner "
   ]
  },
  {
   "cell_type": "code",
   "execution_count": 21,
   "metadata": {},
   "outputs": [],
   "source": [
    "train_size = int(len(df1)*0.65)\n",
    "test_size = len(df1) - train_size\n",
    "train_data, test_data = df1[0:train_size,:],df1[train_size:len(df1),:1]"
   ]
  },
  {
   "cell_type": "code",
   "execution_count": 23,
   "metadata": {},
   "outputs": [
    {
     "data": {
      "text/plain": [
       "(817, 441, 817, 441)"
      ]
     },
     "execution_count": 23,
     "metadata": {},
     "output_type": "execute_result"
    }
   ],
   "source": [
    "train_size, test_size , len(train_data), len(test_data)"
   ]
  },
  {
   "cell_type": "code",
   "execution_count": 24,
   "metadata": {},
   "outputs": [],
   "source": [
    "#convert array of values into a dataset matrix\n",
    "def create_dataset(dataset, time_step=1):\n",
    "    dataX,dataY =[],[]\n",
    "    for i in range(len(dataset)-time_step-1):\n",
    "        a = dataset[i:(i+time_step),0]\n",
    "        dataX.append(a)\n",
    "        dataY.append(dataset[i+time_step,0])\n",
    "    return np.array(dataX),np.array(dataY)"
   ]
  },
  {
   "cell_type": "code",
   "execution_count": 25,
   "metadata": {},
   "outputs": [],
   "source": [
    "#rehape into X = t,t+1,.....t+99 and y = t+100\n",
    "time_step = 100\n",
    "X_train,y_train = create_dataset(train_data,time_step)\n",
    "X_test,y_test = create_dataset(test_data,time_step)"
   ]
  },
  {
   "cell_type": "code",
   "execution_count": 27,
   "metadata": {},
   "outputs": [
    {
     "data": {
      "text/plain": [
       "((716, 100), (716,))"
      ]
     },
     "execution_count": 27,
     "metadata": {},
     "output_type": "execute_result"
    }
   ],
   "source": [
    "X_train.shape,y_train.shape"
   ]
  },
  {
   "cell_type": "code",
   "execution_count": 28,
   "metadata": {},
   "outputs": [
    {
     "data": {
      "text/plain": [
       "((340, 100), (340,))"
      ]
     },
     "execution_count": 28,
     "metadata": {},
     "output_type": "execute_result"
    }
   ],
   "source": [
    "X_test.shape,y_test.shape"
   ]
  },
  {
   "cell_type": "markdown",
   "metadata": {},
   "source": [
    "Reshape the input to be [sample,time_step,features] which is required for LSTM"
   ]
  },
  {
   "cell_type": "code",
   "execution_count": 29,
   "metadata": {},
   "outputs": [],
   "source": [
    "X_train = X_train.reshape(X_train.shape[0],X_train.shape[1],1)\n",
    "X_test = X_test.reshape(X_test.shape[0],X_test.shape[1],1)"
   ]
  },
  {
   "cell_type": "markdown",
   "metadata": {},
   "source": [
    "Create LSTM models"
   ]
  },
  {
   "cell_type": "code",
   "execution_count": 30,
   "metadata": {},
   "outputs": [],
   "source": [
    "from tensorflow.keras.models import Sequential\n",
    "from tensorflow.keras.layers import Dense\n",
    "from tensorflow.keras.layers import LSTM"
   ]
  },
  {
   "cell_type": "code",
   "execution_count": 31,
   "metadata": {},
   "outputs": [],
   "source": [
    "model = Sequential()\n",
    "model.add(LSTM(50,return_sequences=True,input_shape=(100,1)))\n",
    "model.add(LSTM(50,return_sequences=True))\n",
    "model.add(LSTM(50))\n",
    "model.add(Dense(1))\n",
    "model.compile(loss='mean_squared_error',optimizer = 'adam')"
   ]
  },
  {
   "cell_type": "code",
   "execution_count": 32,
   "metadata": {},
   "outputs": [
    {
     "name": "stdout",
     "output_type": "stream",
     "text": [
      "Model: \"sequential\"\n",
      "_________________________________________________________________\n",
      "Layer (type)                 Output Shape              Param #   \n",
      "=================================================================\n",
      "lstm (LSTM)                  (None, 100, 50)           10400     \n",
      "_________________________________________________________________\n",
      "lstm_1 (LSTM)                (None, 100, 50)           20200     \n",
      "_________________________________________________________________\n",
      "lstm_2 (LSTM)                (None, 50)                20200     \n",
      "_________________________________________________________________\n",
      "dense (Dense)                (None, 1)                 51        \n",
      "=================================================================\n",
      "Total params: 50,851\n",
      "Trainable params: 50,851\n",
      "Non-trainable params: 0\n",
      "_________________________________________________________________\n"
     ]
    }
   ],
   "source": [
    "model.summary()"
   ]
  },
  {
   "cell_type": "code",
   "execution_count": 33,
   "metadata": {},
   "outputs": [
    {
     "name": "stdout",
     "output_type": "stream",
     "text": [
      "Epoch 1/100\n",
      "12/12 [==============================] - 8s 322ms/step - loss: 0.0198 - val_loss: 0.0442\n",
      "Epoch 2/100\n",
      "12/12 [==============================] - 2s 171ms/step - loss: 0.0029 - val_loss: 0.0273\n",
      "Epoch 3/100\n",
      "12/12 [==============================] - 2s 173ms/step - loss: 0.0016 - val_loss: 0.0261\n",
      "Epoch 4/100\n",
      "12/12 [==============================] - 2s 169ms/step - loss: 9.2085e-04 - val_loss: 0.0223\n",
      "Epoch 5/100\n",
      "12/12 [==============================] - 2s 171ms/step - loss: 6.1688e-04 - val_loss: 0.0209\n",
      "Epoch 6/100\n",
      "12/12 [==============================] - 2s 169ms/step - loss: 4.5601e-04 - val_loss: 0.0213\n",
      "Epoch 7/100\n",
      "12/12 [==============================] - 2s 169ms/step - loss: 4.7334e-04 - val_loss: 0.0204\n",
      "Epoch 8/100\n",
      "12/12 [==============================] - 2s 170ms/step - loss: 4.4701e-04 - val_loss: 0.0193\n",
      "Epoch 9/100\n",
      "12/12 [==============================] - 2s 168ms/step - loss: 4.2083e-04 - val_loss: 0.0192\n",
      "Epoch 10/100\n",
      "12/12 [==============================] - 2s 166ms/step - loss: 4.1738e-04 - val_loss: 0.0188\n",
      "Epoch 11/100\n",
      "12/12 [==============================] - 2s 167ms/step - loss: 3.6978e-04 - val_loss: 0.0186\n",
      "Epoch 12/100\n",
      "12/12 [==============================] - 2s 168ms/step - loss: 3.5936e-04 - val_loss: 0.0176\n",
      "Epoch 13/100\n",
      "12/12 [==============================] - 2s 169ms/step - loss: 3.6004e-04 - val_loss: 0.0170\n",
      "Epoch 14/100\n",
      "12/12 [==============================] - 2s 169ms/step - loss: 3.6144e-04 - val_loss: 0.0171\n",
      "Epoch 15/100\n",
      "12/12 [==============================] - 2s 169ms/step - loss: 3.3953e-04 - val_loss: 0.0162\n",
      "Epoch 16/100\n",
      "12/12 [==============================] - 2s 171ms/step - loss: 3.0657e-04 - val_loss: 0.0156\n",
      "Epoch 17/100\n",
      "12/12 [==============================] - 2s 176ms/step - loss: 3.1410e-04 - val_loss: 0.0162\n",
      "Epoch 18/100\n",
      "12/12 [==============================] - 2s 189ms/step - loss: 3.7446e-04 - val_loss: 0.0150\n",
      "Epoch 19/100\n",
      "12/12 [==============================] - 2s 189ms/step - loss: 2.8993e-04 - val_loss: 0.0148\n",
      "Epoch 20/100\n",
      "12/12 [==============================] - 2s 183ms/step - loss: 2.5241e-04 - val_loss: 0.0148\n",
      "Epoch 21/100\n",
      "12/12 [==============================] - 2s 186ms/step - loss: 2.8165e-04 - val_loss: 0.0144\n",
      "Epoch 22/100\n",
      "12/12 [==============================] - 2s 172ms/step - loss: 2.7610e-04 - val_loss: 0.0141\n",
      "Epoch 23/100\n",
      "12/12 [==============================] - 2s 182ms/step - loss: 2.6153e-04 - val_loss: 0.0139\n",
      "Epoch 24/100\n",
      "12/12 [==============================] - 2s 182ms/step - loss: 2.3292e-04 - val_loss: 0.0137\n",
      "Epoch 25/100\n",
      "12/12 [==============================] - 2s 175ms/step - loss: 2.4794e-04 - val_loss: 0.0138\n",
      "Epoch 26/100\n",
      "12/12 [==============================] - 2s 168ms/step - loss: 2.4703e-04 - val_loss: 0.0138\n",
      "Epoch 27/100\n",
      "12/12 [==============================] - 2s 168ms/step - loss: 2.8597e-04 - val_loss: 0.0131\n",
      "Epoch 28/100\n",
      "12/12 [==============================] - 2s 171ms/step - loss: 2.3330e-04 - val_loss: 0.0130\n",
      "Epoch 29/100\n",
      "12/12 [==============================] - 2s 172ms/step - loss: 2.0486e-04 - val_loss: 0.0129\n",
      "Epoch 30/100\n",
      "12/12 [==============================] - 2s 171ms/step - loss: 2.2387e-04 - val_loss: 0.0134\n",
      "Epoch 31/100\n",
      "12/12 [==============================] - 2s 168ms/step - loss: 2.2232e-04 - val_loss: 0.0127\n",
      "Epoch 32/100\n",
      "12/12 [==============================] - 2s 184ms/step - loss: 2.1532e-04 - val_loss: 0.0124\n",
      "Epoch 33/100\n",
      "12/12 [==============================] - 2s 182ms/step - loss: 2.3303e-04 - val_loss: 0.0126\n",
      "Epoch 34/100\n",
      "12/12 [==============================] - 2s 171ms/step - loss: 2.0468e-04 - val_loss: 0.0131\n",
      "Epoch 35/100\n",
      "12/12 [==============================] - 2s 170ms/step - loss: 2.2643e-04 - val_loss: 0.0122\n",
      "Epoch 36/100\n",
      "12/12 [==============================] - 2s 172ms/step - loss: 2.1222e-04 - val_loss: 0.0124\n",
      "Epoch 37/100\n",
      "12/12 [==============================] - 2s 170ms/step - loss: 2.1402e-04 - val_loss: 0.0122\n",
      "Epoch 38/100\n",
      "12/12 [==============================] - 2s 169ms/step - loss: 2.2268e-04 - val_loss: 0.0121\n",
      "Epoch 39/100\n",
      "12/12 [==============================] - 2s 172ms/step - loss: 2.1226e-04 - val_loss: 0.0114\n",
      "Epoch 40/100\n",
      "12/12 [==============================] - 2s 168ms/step - loss: 1.8907e-04 - val_loss: 0.0114\n",
      "Epoch 41/100\n",
      "12/12 [==============================] - 2s 169ms/step - loss: 1.8889e-04 - val_loss: 0.0113\n",
      "Epoch 42/100\n",
      "12/12 [==============================] - 2s 169ms/step - loss: 1.8718e-04 - val_loss: 0.0110\n",
      "Epoch 43/100\n",
      "12/12 [==============================] - 2s 173ms/step - loss: 2.2733e-04 - val_loss: 0.0114\n",
      "Epoch 44/100\n",
      "12/12 [==============================] - 2s 174ms/step - loss: 1.7811e-04 - val_loss: 0.0110\n",
      "Epoch 45/100\n",
      "12/12 [==============================] - 2s 171ms/step - loss: 1.9800e-04 - val_loss: 0.0112\n",
      "Epoch 46/100\n",
      "12/12 [==============================] - 2s 170ms/step - loss: 1.8304e-04 - val_loss: 0.0108\n",
      "Epoch 47/100\n",
      "12/12 [==============================] - 2s 169ms/step - loss: 1.8013e-04 - val_loss: 0.0111\n",
      "Epoch 48/100\n",
      "12/12 [==============================] - 2s 171ms/step - loss: 1.9671e-04 - val_loss: 0.0105\n",
      "Epoch 49/100\n",
      "12/12 [==============================] - 2s 170ms/step - loss: 1.7791e-04 - val_loss: 0.0106\n",
      "Epoch 50/100\n",
      "12/12 [==============================] - 2s 171ms/step - loss: 1.8285e-04 - val_loss: 0.0103\n",
      "Epoch 51/100\n",
      "12/12 [==============================] - 2s 170ms/step - loss: 1.9181e-04 - val_loss: 0.0102\n",
      "Epoch 52/100\n",
      "12/12 [==============================] - 2s 172ms/step - loss: 1.8122e-04 - val_loss: 0.0102\n",
      "Epoch 53/100\n",
      "12/12 [==============================] - 2s 173ms/step - loss: 1.7335e-04 - val_loss: 0.0115\n",
      "Epoch 54/100\n",
      "12/12 [==============================] - 2s 171ms/step - loss: 2.9870e-04 - val_loss: 0.0099\n",
      "Epoch 55/100\n",
      "12/12 [==============================] - 2s 171ms/step - loss: 2.3778e-04 - val_loss: 0.0100\n",
      "Epoch 56/100\n",
      "12/12 [==============================] - 2s 171ms/step - loss: 2.1642e-04 - val_loss: 0.0091\n",
      "Epoch 57/100\n",
      "12/12 [==============================] - 2s 171ms/step - loss: 2.0327e-04 - val_loss: 0.0091\n",
      "Epoch 58/100\n",
      "12/12 [==============================] - 2s 178ms/step - loss: 1.9443e-04 - val_loss: 0.0094\n",
      "Epoch 59/100\n",
      "12/12 [==============================] - 2s 174ms/step - loss: 1.5892e-04 - val_loss: 0.0098\n",
      "Epoch 60/100\n",
      "12/12 [==============================] - 2s 171ms/step - loss: 1.7787e-04 - val_loss: 0.0097\n",
      "Epoch 61/100\n",
      "12/12 [==============================] - 2s 171ms/step - loss: 1.6149e-04 - val_loss: 0.0095\n",
      "Epoch 62/100\n",
      "12/12 [==============================] - 2s 171ms/step - loss: 1.5968e-04 - val_loss: 0.0096\n",
      "Epoch 63/100\n",
      "12/12 [==============================] - 2s 171ms/step - loss: 1.4934e-04 - val_loss: 0.0098\n",
      "Epoch 64/100\n",
      "12/12 [==============================] - 2s 172ms/step - loss: 2.1246e-04 - val_loss: 0.0088\n",
      "Epoch 65/100\n",
      "12/12 [==============================] - 2s 171ms/step - loss: 1.5632e-04 - val_loss: 0.0085\n",
      "Epoch 66/100\n",
      "12/12 [==============================] - 2s 171ms/step - loss: 1.5608e-04 - val_loss: 0.0085\n",
      "Epoch 67/100\n",
      "12/12 [==============================] - 2s 171ms/step - loss: 1.5623e-04 - val_loss: 0.0088\n",
      "Epoch 68/100\n",
      "12/12 [==============================] - 2s 171ms/step - loss: 1.4487e-04 - val_loss: 0.0087\n",
      "Epoch 69/100\n",
      "12/12 [==============================] - 2s 170ms/step - loss: 1.4286e-04 - val_loss: 0.0085\n",
      "Epoch 70/100\n",
      "12/12 [==============================] - 2s 171ms/step - loss: 1.4723e-04 - val_loss: 0.0089\n",
      "Epoch 71/100\n",
      "12/12 [==============================] - 2s 169ms/step - loss: 1.8667e-04 - val_loss: 0.0082\n",
      "Epoch 72/100\n",
      "12/12 [==============================] - 2s 170ms/step - loss: 1.4845e-04 - val_loss: 0.0083\n",
      "Epoch 73/100\n",
      "12/12 [==============================] - 2s 173ms/step - loss: 1.9768e-04 - val_loss: 0.0080\n",
      "Epoch 74/100\n",
      "12/12 [==============================] - 2s 173ms/step - loss: 1.7738e-04 - val_loss: 0.0080\n",
      "Epoch 75/100\n",
      "12/12 [==============================] - 2s 172ms/step - loss: 1.3856e-04 - val_loss: 0.0078\n",
      "Epoch 76/100\n",
      "12/12 [==============================] - 2s 171ms/step - loss: 1.4179e-04 - val_loss: 0.0077\n",
      "Epoch 77/100\n",
      "12/12 [==============================] - 2s 171ms/step - loss: 1.3307e-04 - val_loss: 0.0078\n",
      "Epoch 78/100\n",
      "12/12 [==============================] - 2s 172ms/step - loss: 1.6708e-04 - val_loss: 0.0071\n",
      "Epoch 79/100\n",
      "12/12 [==============================] - 2s 171ms/step - loss: 1.3617e-04 - val_loss: 0.0072\n",
      "Epoch 80/100\n",
      "12/12 [==============================] - 2s 174ms/step - loss: 1.2599e-04 - val_loss: 0.0071\n",
      "Epoch 81/100\n",
      "12/12 [==============================] - 2s 170ms/step - loss: 1.3668e-04 - val_loss: 0.0072\n",
      "Epoch 82/100\n",
      "12/12 [==============================] - 2s 168ms/step - loss: 1.5607e-04 - val_loss: 0.0066\n",
      "Epoch 83/100\n",
      "12/12 [==============================] - 2s 174ms/step - loss: 1.3966e-04 - val_loss: 0.0067\n",
      "Epoch 84/100\n",
      "12/12 [==============================] - 2s 171ms/step - loss: 1.3120e-04 - val_loss: 0.0068\n",
      "Epoch 85/100\n",
      "12/12 [==============================] - 2s 168ms/step - loss: 1.3465e-04 - val_loss: 0.0061\n",
      "Epoch 86/100\n",
      "12/12 [==============================] - 2s 168ms/step - loss: 1.3831e-04 - val_loss: 0.0060\n",
      "Epoch 87/100\n",
      "12/12 [==============================] - 2s 168ms/step - loss: 1.3306e-04 - val_loss: 0.0060\n",
      "Epoch 88/100\n",
      "12/12 [==============================] - 2s 168ms/step - loss: 1.1696e-04 - val_loss: 0.0058\n",
      "Epoch 89/100\n",
      "12/12 [==============================] - 2s 168ms/step - loss: 1.1061e-04 - val_loss: 0.0058\n",
      "Epoch 90/100\n",
      "12/12 [==============================] - 2s 169ms/step - loss: 1.3024e-04 - val_loss: 0.0054\n",
      "Epoch 91/100\n",
      "12/12 [==============================] - 2s 168ms/step - loss: 1.3278e-04 - val_loss: 0.0055\n",
      "Epoch 92/100\n",
      "12/12 [==============================] - 2s 167ms/step - loss: 1.1300e-04 - val_loss: 0.0054\n",
      "Epoch 93/100\n",
      "12/12 [==============================] - 2s 168ms/step - loss: 1.3429e-04 - val_loss: 0.0051\n",
      "Epoch 94/100\n",
      "12/12 [==============================] - 2s 188ms/step - loss: 1.4388e-04 - val_loss: 0.0057\n",
      "Epoch 95/100\n",
      "12/12 [==============================] - 2s 184ms/step - loss: 1.2853e-04 - val_loss: 0.0050\n",
      "Epoch 96/100\n",
      "12/12 [==============================] - 2s 171ms/step - loss: 1.3034e-04 - val_loss: 0.0052\n",
      "Epoch 97/100\n",
      "12/12 [==============================] - 2s 169ms/step - loss: 1.0962e-04 - val_loss: 0.0052\n",
      "Epoch 98/100\n",
      "12/12 [==============================] - 2s 170ms/step - loss: 1.2835e-04 - val_loss: 0.0051\n",
      "Epoch 99/100\n",
      "12/12 [==============================] - 2s 171ms/step - loss: 1.2416e-04 - val_loss: 0.0050\n",
      "Epoch 100/100\n",
      "12/12 [==============================] - 2s 170ms/step - loss: 9.6004e-05 - val_loss: 0.0048\n"
     ]
    },
    {
     "data": {
      "text/plain": [
       "<tensorflow.python.keras.callbacks.History at 0x7fb92d2470a0>"
      ]
     },
     "execution_count": 33,
     "metadata": {},
     "output_type": "execute_result"
    }
   ],
   "source": [
    "model.fit(X_train,y_train,validation_data=(X_test,y_test),epochs = 100,batch_size=64,verbose=1)"
   ]
  },
  {
   "cell_type": "code",
   "execution_count": 34,
   "metadata": {},
   "outputs": [],
   "source": [
    "import tensorflow as tf"
   ]
  },
  {
   "cell_type": "markdown",
   "metadata": {},
   "source": [
    "Predict the data and transform back to original data"
   ]
  },
  {
   "cell_type": "code",
   "execution_count": 35,
   "metadata": {},
   "outputs": [],
   "source": [
    "train_pred = model.predict(X_train)\n",
    "test_pred = model.predict(X_test)"
   ]
  },
  {
   "cell_type": "code",
   "execution_count": 36,
   "metadata": {},
   "outputs": [],
   "source": [
    "train_pred = scaler.inverse_transform(train_pred)\n",
    "test_pred = scaler.inverse_transform(test_pred)"
   ]
  },
  {
   "cell_type": "markdown",
   "metadata": {},
   "source": [
    "check performance"
   ]
  },
  {
   "cell_type": "code",
   "execution_count": 38,
   "metadata": {},
   "outputs": [
    {
     "data": {
      "text/plain": [
       "175.7182571562715"
      ]
     },
     "execution_count": 38,
     "metadata": {},
     "output_type": "execute_result"
    }
   ],
   "source": [
    "#performance of train data\n",
    "import math \n",
    "from sklearn.metrics import mean_squared_error\n",
    "math.sqrt(mean_squared_error(y_train,train_pred))"
   ]
  },
  {
   "cell_type": "code",
   "execution_count": 39,
   "metadata": {},
   "outputs": [
    {
     "data": {
      "text/plain": [
       "237.36761881547534"
      ]
     },
     "execution_count": 39,
     "metadata": {},
     "output_type": "execute_result"
    }
   ],
   "source": [
    "#performance of test data\n",
    "math.sqrt(mean_squared_error(y_test,test_pred))"
   ]
  },
  {
   "cell_type": "markdown",
   "metadata": {},
   "source": [
    "Plot "
   ]
  },
  {
   "cell_type": "code",
   "execution_count": 40,
   "metadata": {},
   "outputs": [],
   "source": [
    "#shift train prediction for ploting\n",
    "look_back = 100\n",
    "train_predict_plot = np.empty_like(df1)\n",
    "train_predict_plot[:,:] = np.nan\n",
    "train_predict_plot[look_back:len(train_pred)+look_back,:] = train_pred"
   ]
  },
  {
   "cell_type": "code",
   "execution_count": 41,
   "metadata": {},
   "outputs": [],
   "source": [
    "#shift test prediction for ploting\n",
    "look_back = 100\n",
    "test_predict_plot = np.empty_like(df1)\n",
    "test_predict_plot[:,:] = np.nan\n",
    "test_predict_plot[len(train_pred)+(look_back*2)+1:len(df1)-1,:] = test_pred"
   ]
  },
  {
   "cell_type": "markdown",
   "metadata": {},
   "source": [
    "Blue color -> Complete dataset"
   ]
  },
  {
   "cell_type": "markdown",
   "metadata": {},
   "source": [
    "Green color -> Test data predicted output(previous 100 values missing b/c used as feature to predict)"
   ]
  },
  {
   "cell_type": "markdown",
   "metadata": {},
   "source": [
    "Orange color -> Train data predicted output(previous 100 values missing b/c used as feature to predict)"
   ]
  },
  {
   "cell_type": "code",
   "execution_count": 42,
   "metadata": {},
   "outputs": [
    {
     "data": {
      "image/png": "[encoded data removed]",
      "text/plain": [
       "<Figure size 432x288 with 1 Axes>"
      ]
     },
     "metadata": {
      "needs_background": "light"
     },
     "output_type": "display_data"
    }
   ],
   "source": [
    "#plot baseline and predictions\n",
    "plt.plot(scaler.inverse_transform(df1))\n",
    "plt.plot(train_predict_plot)\n",
    "plt.plot(test_predict_plot)\n",
    "plt.show()"
   ]
  },
  {
   "cell_type": "code",
   "execution_count": 44,
   "metadata": {},
   "outputs": [
    {
     "data": {
      "text/plain": [
       "441"
      ]
     },
     "execution_count": 44,
     "metadata": {},
     "output_type": "execute_result"
    }
   ],
   "source": [
    "len(test_data)"
   ]
  },
  {
   "cell_type": "code",
   "execution_count": 45,
   "metadata": {},
   "outputs": [
    {
     "data": {
      "text/plain": [
       "(1, 100)"
      ]
     },
     "execution_count": 45,
     "metadata": {},
     "output_type": "execute_result"
    }
   ],
   "source": [
    "x_input = test_data[341:].reshape(1,-1)\n",
    "x_input.shape"
   ]
  },
  {
   "cell_type": "code",
   "execution_count": 46,
   "metadata": {},
   "outputs": [],
   "source": [
    "temp_input = list(x_input)\n",
    "temp_input = temp_input[0].tolist()"
   ]
  },
  {
   "cell_type": "code",
   "execution_count": 47,
   "metadata": {},
   "outputs": [
    {
     "data": {
      "text/plain": [
       "[0.09781818181818178,\n",
       " 0.10618181818181813,\n",
       " 0.10465454545454542,\n",
       " 0.10501818181818182,\n",
       " 0.10283636363636359,\n",
       " 0.1013333333333333,\n",
       " 0.10070303030303027,\n",
       " 0.1012848484848485,\n",
       " 0.096,\n",
       " 0.0903030303030303,\n",
       " 0.08756363636363637,\n",
       " 0.08795151515151514,\n",
       " 0.07856969696969698,\n",
       " 0.07823030303030301,\n",
       " 0.07699393939393936,\n",
       " 0.06642424242424241,\n",
       " 0.06707878787878788,\n",
       " 0.0829090909090909,\n",
       " 0.07643636363636366,\n",
       " 0.06901818181818184,\n",
       " 0.06433939393939389,\n",
       " 0.06746666666666665,\n",
       " 0.0552,\n",
       " 0.06665454545454544,\n",
       " 0.0639757575757576,\n",
       " 0.06877575757575757,\n",
       " 0.06652121212121212,\n",
       " 0.07369696969696968,\n",
       " 0.0775272727272727,\n",
       " 0.07556363636363636,\n",
       " 0.0653090909090909,\n",
       " 0.06399999999999997,\n",
       " 0.07224242424242425,\n",
       " 0.0701818181818182,\n",
       " 0.06424242424242424,\n",
       " 0.06545454545454546,\n",
       " 0.06695757575757574,\n",
       " 0.06739393939393937,\n",
       " 0.06378181818181819,\n",
       " 0.06923636363636362,\n",
       " 0.07129696969696966,\n",
       " 0.07832727272727272,\n",
       " 0.07907878787878783,\n",
       " 0.0831757575757576,\n",
       " 0.08913939393939393,\n",
       " 0.09552727272727271,\n",
       " 0.09127272727272731,\n",
       " 0.09900606060606063,\n",
       " 0.09318787878787879,\n",
       " 0.09917575757575756,\n",
       " 0.0983515151515151,\n",
       " 0.1,\n",
       " 0.09580606060606064,\n",
       " 0.09675151515151512,\n",
       " 0.09296969696969695,\n",
       " 0.09873939393939393,\n",
       " 0.09970909090909089,\n",
       " 0.09890909090909086,\n",
       " 0.09694545454545458,\n",
       " 0.09670303030303026,\n",
       " 0.09180606060606064,\n",
       " 0.09442424242424238,\n",
       " 0.08305454545454541,\n",
       " 0.08366060606060602,\n",
       " 0.08763636363636365,\n",
       " 0.08877575757575759,\n",
       " 0.08063030303030302,\n",
       " 0.07835151515151514,\n",
       " 0.07073939393939391,\n",
       " 0.07607272727272726,\n",
       " 0.08208484848484845,\n",
       " 0.07922424242424239,\n",
       " 0.07578181818181814,\n",
       " 0.07539393939393937,\n",
       " 0.08174545454545454,\n",
       " 0.07718787878787878,\n",
       " 0.08123636363636363,\n",
       " 0.08075151515151516,\n",
       " 0.08063030303030302,\n",
       " 0.07682424242424243,\n",
       " 0.07519999999999996,\n",
       " 0.0744,\n",
       " 0.0762909090909091,\n",
       " 0.07260606060606059,\n",
       " 0.07830303030303029,\n",
       " 0.07832727272727272,\n",
       " 0.08036363636363633,\n",
       " 0.08130909090909091,\n",
       " 0.07883636363636362,\n",
       " 0.08184242424242424,\n",
       " 0.089430303030303,\n",
       " 0.08739393939393933,\n",
       " 0.08863030303030303,\n",
       " 0.09260606060606055,\n",
       " 0.0893818181818182,\n",
       " 0.09384242424242425,\n",
       " 0.09791515151515148,\n",
       " 0.09723636363636359,\n",
       " 0.09653333333333333,\n",
       " 0.09580606060606064]"
      ]
     },
     "execution_count": 47,
     "metadata": {},
     "output_type": "execute_result"
    }
   ],
   "source": [
    "temp_input"
   ]
  },
  {
   "cell_type": "markdown",
   "metadata": {},
   "source": [
    "prediction for next 10 days"
   ]
  },
  {
   "cell_type": "code",
   "execution_count": 48,
   "metadata": {},
   "outputs": [
    {
     "name": "stdout",
     "output_type": "stream",
     "text": [
      "[0.09879085]\n",
      "101\n",
      "1 day input [0.10618182 0.10465455 0.10501818 0.10283636 0.10133333 0.10070303\n",
      " 0.10128485 0.096      0.09030303 0.08756364 0.08795152 0.0785697\n",
      " 0.0782303  0.07699394 0.06642424 0.06707879 0.08290909 0.07643636\n",
      " 0.06901818 0.06433939 0.06746667 0.0552     0.06665455 0.06397576\n",
      " 0.06877576 0.06652121 0.07369697 0.07752727 0.07556364 0.06530909\n",
      " 0.064      0.07224242 0.07018182 0.06424242 0.06545455 0.06695758\n",
      " 0.06739394 0.06378182 0.06923636 0.07129697 0.07832727 0.07907879\n",
      " 0.08317576 0.08913939 0.09552727 0.09127273 0.09900606 0.09318788\n",
      " 0.09917576 0.09835152 0.1        0.09580606 0.09675152 0.0929697\n",
      " 0.09873939 0.09970909 0.09890909 0.09694545 0.09670303 0.09180606\n",
      " 0.09442424 0.08305455 0.08366061 0.08763636 0.08877576 0.0806303\n",
      " 0.07835152 0.07073939 0.07607273 0.08208485 0.07922424 0.07578182\n",
      " 0.07539394 0.08174545 0.07718788 0.08123636 0.08075152 0.0806303\n",
      " 0.07682424 0.0752     0.0744     0.07629091 0.07260606 0.07830303\n",
      " 0.07832727 0.08036364 0.08130909 0.07883636 0.08184242 0.0894303\n",
      " 0.08739394 0.0886303  0.09260606 0.08938182 0.09384242 0.09791515\n",
      " 0.09723636 0.09653333 0.09580606 0.09879085]\n",
      "1 day output [[0.09957217]]\n",
      "2 day input [0.10465455 0.10501818 0.10283636 0.10133333 0.10070303 0.10128485\n",
      " 0.096      0.09030303 0.08756364 0.08795152 0.0785697  0.0782303\n",
      " 0.07699394 0.06642424 0.06707879 0.08290909 0.07643636 0.06901818\n",
      " 0.06433939 0.06746667 0.0552     0.06665455 0.06397576 0.06877576\n",
      " 0.06652121 0.07369697 0.07752727 0.07556364 0.06530909 0.064\n",
      " 0.07224242 0.07018182 0.06424242 0.06545455 0.06695758 0.06739394\n",
      " 0.06378182 0.06923636 0.07129697 0.07832727 0.07907879 0.08317576\n",
      " 0.08913939 0.09552727 0.09127273 0.09900606 0.09318788 0.09917576\n",
      " 0.09835152 0.1        0.09580606 0.09675152 0.0929697  0.09873939\n",
      " 0.09970909 0.09890909 0.09694545 0.09670303 0.09180606 0.09442424\n",
      " 0.08305455 0.08366061 0.08763636 0.08877576 0.0806303  0.07835152\n",
      " 0.07073939 0.07607273 0.08208485 0.07922424 0.07578182 0.07539394\n",
      " 0.08174545 0.07718788 0.08123636 0.08075152 0.0806303  0.07682424\n",
      " 0.0752     0.0744     0.07629091 0.07260606 0.07830303 0.07832727\n",
      " 0.08036364 0.08130909 0.07883636 0.08184242 0.0894303  0.08739394\n",
      " 0.0886303  0.09260606 0.08938182 0.09384242 0.09791515 0.09723636\n",
      " 0.09653333 0.09580606 0.09879085 0.09957217]\n",
      "2 day output [[0.10032041]]\n",
      "3 day input [0.10501818 0.10283636 0.10133333 0.10070303 0.10128485 0.096\n",
      " 0.09030303 0.08756364 0.08795152 0.0785697  0.0782303  0.07699394\n",
      " 0.06642424 0.06707879 0.08290909 0.07643636 0.06901818 0.06433939\n",
      " 0.06746667 0.0552     0.06665455 0.06397576 0.06877576 0.06652121\n",
      " 0.07369697 0.07752727 0.07556364 0.06530909 0.064      0.07224242\n",
      " 0.07018182 0.06424242 0.06545455 0.06695758 0.06739394 0.06378182\n",
      " 0.06923636 0.07129697 0.07832727 0.07907879 0.08317576 0.08913939\n",
      " 0.09552727 0.09127273 0.09900606 0.09318788 0.09917576 0.09835152\n",
      " 0.1        0.09580606 0.09675152 0.0929697  0.09873939 0.09970909\n",
      " 0.09890909 0.09694545 0.09670303 0.09180606 0.09442424 0.08305455\n",
      " 0.08366061 0.08763636 0.08877576 0.0806303  0.07835152 0.07073939\n",
      " 0.07607273 0.08208485 0.07922424 0.07578182 0.07539394 0.08174545\n",
      " 0.07718788 0.08123636 0.08075152 0.0806303  0.07682424 0.0752\n",
      " 0.0744     0.07629091 0.07260606 0.07830303 0.07832727 0.08036364\n",
      " 0.08130909 0.07883636 0.08184242 0.0894303  0.08739394 0.0886303\n",
      " 0.09260606 0.08938182 0.09384242 0.09791515 0.09723636 0.09653333\n",
      " 0.09580606 0.09879085 0.09957217 0.10032041]\n",
      "3 day output [[0.1010889]]\n",
      "4 day input [0.10283636 0.10133333 0.10070303 0.10128485 0.096      0.09030303\n",
      " 0.08756364 0.08795152 0.0785697  0.0782303  0.07699394 0.06642424\n",
      " 0.06707879 0.08290909 0.07643636 0.06901818 0.06433939 0.06746667\n",
      " 0.0552     0.06665455 0.06397576 0.06877576 0.06652121 0.07369697\n",
      " 0.07752727 0.07556364 0.06530909 0.064      0.07224242 0.07018182\n",
      " 0.06424242 0.06545455 0.06695758 0.06739394 0.06378182 0.06923636\n",
      " 0.07129697 0.07832727 0.07907879 0.08317576 0.08913939 0.09552727\n",
      " 0.09127273 0.09900606 0.09318788 0.09917576 0.09835152 0.1\n",
      " 0.09580606 0.09675152 0.0929697  0.09873939 0.09970909 0.09890909\n",
      " 0.09694545 0.09670303 0.09180606 0.09442424 0.08305455 0.08366061\n",
      " 0.08763636 0.08877576 0.0806303  0.07835152 0.07073939 0.07607273\n",
      " 0.08208485 0.07922424 0.07578182 0.07539394 0.08174545 0.07718788\n",
      " 0.08123636 0.08075152 0.0806303  0.07682424 0.0752     0.0744\n",
      " 0.07629091 0.07260606 0.07830303 0.07832727 0.08036364 0.08130909\n",
      " 0.07883636 0.08184242 0.0894303  0.08739394 0.0886303  0.09260606\n",
      " 0.08938182 0.09384242 0.09791515 0.09723636 0.09653333 0.09580606\n",
      " 0.09879085 0.09957217 0.10032041 0.1010889 ]\n",
      "4 day output [[0.10189435]]\n",
      "5 day input [0.10133333 0.10070303 0.10128485 0.096      0.09030303 0.08756364\n",
      " 0.08795152 0.0785697  0.0782303  0.07699394 0.06642424 0.06707879\n",
      " 0.08290909 0.07643636 0.06901818 0.06433939 0.06746667 0.0552\n",
      " 0.06665455 0.06397576 0.06877576 0.06652121 0.07369697 0.07752727\n",
      " 0.07556364 0.06530909 0.064      0.07224242 0.07018182 0.06424242\n",
      " 0.06545455 0.06695758 0.06739394 0.06378182 0.06923636 0.07129697\n",
      " 0.07832727 0.07907879 0.08317576 0.08913939 0.09552727 0.09127273\n",
      " 0.09900606 0.09318788 0.09917576 0.09835152 0.1        0.09580606\n",
      " 0.09675152 0.0929697  0.09873939 0.09970909 0.09890909 0.09694545\n",
      " 0.09670303 0.09180606 0.09442424 0.08305455 0.08366061 0.08763636\n",
      " 0.08877576 0.0806303  0.07835152 0.07073939 0.07607273 0.08208485\n",
      " 0.07922424 0.07578182 0.07539394 0.08174545 0.07718788 0.08123636\n",
      " 0.08075152 0.0806303  0.07682424 0.0752     0.0744     0.07629091\n",
      " 0.07260606 0.07830303 0.07832727 0.08036364 0.08130909 0.07883636\n",
      " 0.08184242 0.0894303  0.08739394 0.0886303  0.09260606 0.08938182\n",
      " 0.09384242 0.09791515 0.09723636 0.09653333 0.09580606 0.09879085\n",
      " 0.09957217 0.10032041 0.1010889  0.10189435]\n",
      "5 day output [[0.10273796]]\n",
      "6 day input [0.10070303 0.10128485 0.096      0.09030303 0.08756364 0.08795152\n",
      " 0.0785697  0.0782303  0.07699394 0.06642424 0.06707879 0.08290909\n",
      " 0.07643636 0.06901818 0.06433939 0.06746667 0.0552     0.06665455\n",
      " 0.06397576 0.06877576 0.06652121 0.07369697 0.07752727 0.07556364\n",
      " 0.06530909 0.064      0.07224242 0.07018182 0.06424242 0.06545455\n",
      " 0.06695758 0.06739394 0.06378182 0.06923636 0.07129697 0.07832727\n",
      " 0.07907879 0.08317576 0.08913939 0.09552727 0.09127273 0.09900606\n",
      " 0.09318788 0.09917576 0.09835152 0.1        0.09580606 0.09675152\n",
      " 0.0929697  0.09873939 0.09970909 0.09890909 0.09694545 0.09670303\n",
      " 0.09180606 0.09442424 0.08305455 0.08366061 0.08763636 0.08877576\n",
      " 0.0806303  0.07835152 0.07073939 0.07607273 0.08208485 0.07922424\n",
      " 0.07578182 0.07539394 0.08174545 0.07718788 0.08123636 0.08075152\n",
      " 0.0806303  0.07682424 0.0752     0.0744     0.07629091 0.07260606\n",
      " 0.07830303 0.07832727 0.08036364 0.08130909 0.07883636 0.08184242\n",
      " 0.0894303  0.08739394 0.0886303  0.09260606 0.08938182 0.09384242\n",
      " 0.09791515 0.09723636 0.09653333 0.09580606 0.09879085 0.09957217\n",
      " 0.10032041 0.1010889  0.10189435 0.10273796]\n",
      "6 day output [[0.10361616]]\n",
      "7 day input [0.10128485 0.096      0.09030303 0.08756364 0.08795152 0.0785697\n",
      " 0.0782303  0.07699394 0.06642424 0.06707879 0.08290909 0.07643636\n",
      " 0.06901818 0.06433939 0.06746667 0.0552     0.06665455 0.06397576\n",
      " 0.06877576 0.06652121 0.07369697 0.07752727 0.07556364 0.06530909\n",
      " 0.064      0.07224242 0.07018182 0.06424242 0.06545455 0.06695758\n",
      " 0.06739394 0.06378182 0.06923636 0.07129697 0.07832727 0.07907879\n",
      " 0.08317576 0.08913939 0.09552727 0.09127273 0.09900606 0.09318788\n",
      " 0.09917576 0.09835152 0.1        0.09580606 0.09675152 0.0929697\n",
      " 0.09873939 0.09970909 0.09890909 0.09694545 0.09670303 0.09180606\n",
      " 0.09442424 0.08305455 0.08366061 0.08763636 0.08877576 0.0806303\n",
      " 0.07835152 0.07073939 0.07607273 0.08208485 0.07922424 0.07578182\n",
      " 0.07539394 0.08174545 0.07718788 0.08123636 0.08075152 0.0806303\n",
      " 0.07682424 0.0752     0.0744     0.07629091 0.07260606 0.07830303\n",
      " 0.07832727 0.08036364 0.08130909 0.07883636 0.08184242 0.0894303\n",
      " 0.08739394 0.0886303  0.09260606 0.08938182 0.09384242 0.09791515\n",
      " 0.09723636 0.09653333 0.09580606 0.09879085 0.09957217 0.10032041\n",
      " 0.1010889  0.10189435 0.10273796 0.10361616]\n",
      "7 day output [[0.10452473]]\n",
      "8 day input [0.096      0.09030303 0.08756364 0.08795152 0.0785697  0.0782303\n",
      " 0.07699394 0.06642424 0.06707879 0.08290909 0.07643636 0.06901818\n",
      " 0.06433939 0.06746667 0.0552     0.06665455 0.06397576 0.06877576\n",
      " 0.06652121 0.07369697 0.07752727 0.07556364 0.06530909 0.064\n",
      " 0.07224242 0.07018182 0.06424242 0.06545455 0.06695758 0.06739394\n",
      " 0.06378182 0.06923636 0.07129697 0.07832727 0.07907879 0.08317576\n",
      " 0.08913939 0.09552727 0.09127273 0.09900606 0.09318788 0.09917576\n",
      " 0.09835152 0.1        0.09580606 0.09675152 0.0929697  0.09873939\n",
      " 0.09970909 0.09890909 0.09694545 0.09670303 0.09180606 0.09442424\n",
      " 0.08305455 0.08366061 0.08763636 0.08877576 0.0806303  0.07835152\n",
      " 0.07073939 0.07607273 0.08208485 0.07922424 0.07578182 0.07539394\n",
      " 0.08174545 0.07718788 0.08123636 0.08075152 0.0806303  0.07682424\n",
      " 0.0752     0.0744     0.07629091 0.07260606 0.07830303 0.07832727\n",
      " 0.08036364 0.08130909 0.07883636 0.08184242 0.0894303  0.08739394\n",
      " 0.0886303  0.09260606 0.08938182 0.09384242 0.09791515 0.09723636\n",
      " 0.09653333 0.09580606 0.09879085 0.09957217 0.10032041 0.1010889\n",
      " 0.10189435 0.10273796 0.10361616 0.10452473]\n",
      "8 day output [[0.10545994]]\n",
      "9 day input [0.09030303 0.08756364 0.08795152 0.0785697  0.0782303  0.07699394\n",
      " 0.06642424 0.06707879 0.08290909 0.07643636 0.06901818 0.06433939\n",
      " 0.06746667 0.0552     0.06665455 0.06397576 0.06877576 0.06652121\n",
      " 0.07369697 0.07752727 0.07556364 0.06530909 0.064      0.07224242\n",
      " 0.07018182 0.06424242 0.06545455 0.06695758 0.06739394 0.06378182\n",
      " 0.06923636 0.07129697 0.07832727 0.07907879 0.08317576 0.08913939\n",
      " 0.09552727 0.09127273 0.09900606 0.09318788 0.09917576 0.09835152\n",
      " 0.1        0.09580606 0.09675152 0.0929697  0.09873939 0.09970909\n",
      " 0.09890909 0.09694545 0.09670303 0.09180606 0.09442424 0.08305455\n",
      " 0.08366061 0.08763636 0.08877576 0.0806303  0.07835152 0.07073939\n",
      " 0.07607273 0.08208485 0.07922424 0.07578182 0.07539394 0.08174545\n",
      " 0.07718788 0.08123636 0.08075152 0.0806303  0.07682424 0.0752\n",
      " 0.0744     0.07629091 0.07260606 0.07830303 0.07832727 0.08036364\n",
      " 0.08130909 0.07883636 0.08184242 0.0894303  0.08739394 0.0886303\n",
      " 0.09260606 0.08938182 0.09384242 0.09791515 0.09723636 0.09653333\n",
      " 0.09580606 0.09879085 0.09957217 0.10032041 0.1010889  0.10189435\n",
      " 0.10273796 0.10361616 0.10452473 0.10545994]\n",
      "9 day output [[0.10641832]]\n",
      "10 day input [0.08756364 0.08795152 0.0785697  0.0782303  0.07699394 0.06642424\n",
      " 0.06707879 0.08290909 0.07643636 0.06901818 0.06433939 0.06746667\n",
      " 0.0552     0.06665455 0.06397576 0.06877576 0.06652121 0.07369697\n",
      " 0.07752727 0.07556364 0.06530909 0.064      0.07224242 0.07018182\n",
      " 0.06424242 0.06545455 0.06695758 0.06739394 0.06378182 0.06923636\n",
      " 0.07129697 0.07832727 0.07907879 0.08317576 0.08913939 0.09552727\n",
      " 0.09127273 0.09900606 0.09318788 0.09917576 0.09835152 0.1\n",
      " 0.09580606 0.09675152 0.0929697  0.09873939 0.09970909 0.09890909\n",
      " 0.09694545 0.09670303 0.09180606 0.09442424 0.08305455 0.08366061\n",
      " 0.08763636 0.08877576 0.0806303  0.07835152 0.07073939 0.07607273\n",
      " 0.08208485 0.07922424 0.07578182 0.07539394 0.08174545 0.07718788\n",
      " 0.08123636 0.08075152 0.0806303  0.07682424 0.0752     0.0744\n",
      " 0.07629091 0.07260606 0.07830303 0.07832727 0.08036364 0.08130909\n",
      " 0.07883636 0.08184242 0.0894303  0.08739394 0.0886303  0.09260606\n",
      " 0.08938182 0.09384242 0.09791515 0.09723636 0.09653333 0.09580606\n",
      " 0.09879085 0.09957217 0.10032041 0.1010889  0.10189435 0.10273796\n",
      " 0.10361616 0.10452473 0.10545994 0.10641832]\n",
      "10 day output [[0.10739652]]\n",
      "11 day input [0.08795152 0.0785697  0.0782303  0.07699394 0.06642424 0.06707879\n",
      " 0.08290909 0.07643636 0.06901818 0.06433939 0.06746667 0.0552\n",
      " 0.06665455 0.06397576 0.06877576 0.06652121 0.07369697 0.07752727\n",
      " 0.07556364 0.06530909 0.064      0.07224242 0.07018182 0.06424242\n",
      " 0.06545455 0.06695758 0.06739394 0.06378182 0.06923636 0.07129697\n",
      " 0.07832727 0.07907879 0.08317576 0.08913939 0.09552727 0.09127273\n",
      " 0.09900606 0.09318788 0.09917576 0.09835152 0.1        0.09580606\n",
      " 0.09675152 0.0929697  0.09873939 0.09970909 0.09890909 0.09694545\n",
      " 0.09670303 0.09180606 0.09442424 0.08305455 0.08366061 0.08763636\n",
      " 0.08877576 0.0806303  0.07835152 0.07073939 0.07607273 0.08208485\n",
      " 0.07922424 0.07578182 0.07539394 0.08174545 0.07718788 0.08123636\n",
      " 0.08075152 0.0806303  0.07682424 0.0752     0.0744     0.07629091\n",
      " 0.07260606 0.07830303 0.07832727 0.08036364 0.08130909 0.07883636\n",
      " 0.08184242 0.0894303  0.08739394 0.0886303  0.09260606 0.08938182\n",
      " 0.09384242 0.09791515 0.09723636 0.09653333 0.09580606 0.09879085\n",
      " 0.09957217 0.10032041 0.1010889  0.10189435 0.10273796 0.10361616\n",
      " 0.10452473 0.10545994 0.10641832 0.10739652]\n",
      "11 day output [[0.10839103]]\n",
      "12 day input [0.0785697  0.0782303  0.07699394 0.06642424 0.06707879 0.08290909\n",
      " 0.07643636 0.06901818 0.06433939 0.06746667 0.0552     0.06665455\n",
      " 0.06397576 0.06877576 0.06652121 0.07369697 0.07752727 0.07556364\n",
      " 0.06530909 0.064      0.07224242 0.07018182 0.06424242 0.06545455\n",
      " 0.06695758 0.06739394 0.06378182 0.06923636 0.07129697 0.07832727\n",
      " 0.07907879 0.08317576 0.08913939 0.09552727 0.09127273 0.09900606\n",
      " 0.09318788 0.09917576 0.09835152 0.1        0.09580606 0.09675152\n",
      " 0.0929697  0.09873939 0.09970909 0.09890909 0.09694545 0.09670303\n",
      " 0.09180606 0.09442424 0.08305455 0.08366061 0.08763636 0.08877576\n",
      " 0.0806303  0.07835152 0.07073939 0.07607273 0.08208485 0.07922424\n",
      " 0.07578182 0.07539394 0.08174545 0.07718788 0.08123636 0.08075152\n",
      " 0.0806303  0.07682424 0.0752     0.0744     0.07629091 0.07260606\n",
      " 0.07830303 0.07832727 0.08036364 0.08130909 0.07883636 0.08184242\n",
      " 0.0894303  0.08739394 0.0886303  0.09260606 0.08938182 0.09384242\n",
      " 0.09791515 0.09723636 0.09653333 0.09580606 0.09879085 0.09957217\n",
      " 0.10032041 0.1010889  0.10189435 0.10273796 0.10361616 0.10452473\n",
      " 0.10545994 0.10641832 0.10739652 0.10839103]\n",
      "12 day output [[0.10939827]]\n",
      "13 day input [0.0782303  0.07699394 0.06642424 0.06707879 0.08290909 0.07643636\n",
      " 0.06901818 0.06433939 0.06746667 0.0552     0.06665455 0.06397576\n",
      " 0.06877576 0.06652121 0.07369697 0.07752727 0.07556364 0.06530909\n",
      " 0.064      0.07224242 0.07018182 0.06424242 0.06545455 0.06695758\n",
      " 0.06739394 0.06378182 0.06923636 0.07129697 0.07832727 0.07907879\n",
      " 0.08317576 0.08913939 0.09552727 0.09127273 0.09900606 0.09318788\n",
      " 0.09917576 0.09835152 0.1        0.09580606 0.09675152 0.0929697\n",
      " 0.09873939 0.09970909 0.09890909 0.09694545 0.09670303 0.09180606\n",
      " 0.09442424 0.08305455 0.08366061 0.08763636 0.08877576 0.0806303\n",
      " 0.07835152 0.07073939 0.07607273 0.08208485 0.07922424 0.07578182\n",
      " 0.07539394 0.08174545 0.07718788 0.08123636 0.08075152 0.0806303\n",
      " 0.07682424 0.0752     0.0744     0.07629091 0.07260606 0.07830303\n",
      " 0.07832727 0.08036364 0.08130909 0.07883636 0.08184242 0.0894303\n",
      " 0.08739394 0.0886303  0.09260606 0.08938182 0.09384242 0.09791515\n",
      " 0.09723636 0.09653333 0.09580606 0.09879085 0.09957217 0.10032041\n",
      " 0.1010889  0.10189435 0.10273796 0.10361616 0.10452473 0.10545994\n",
      " 0.10641832 0.10739652 0.10839103 0.10939827]\n",
      "13 day output [[0.11041482]]\n",
      "14 day input [0.07699394 0.06642424 0.06707879 0.08290909 0.07643636 0.06901818\n",
      " 0.06433939 0.06746667 0.0552     0.06665455 0.06397576 0.06877576\n",
      " 0.06652121 0.07369697 0.07752727 0.07556364 0.06530909 0.064\n",
      " 0.07224242 0.07018182 0.06424242 0.06545455 0.06695758 0.06739394\n",
      " 0.06378182 0.06923636 0.07129697 0.07832727 0.07907879 0.08317576\n",
      " 0.08913939 0.09552727 0.09127273 0.09900606 0.09318788 0.09917576\n",
      " 0.09835152 0.1        0.09580606 0.09675152 0.0929697  0.09873939\n",
      " 0.09970909 0.09890909 0.09694545 0.09670303 0.09180606 0.09442424\n",
      " 0.08305455 0.08366061 0.08763636 0.08877576 0.0806303  0.07835152\n",
      " 0.07073939 0.07607273 0.08208485 0.07922424 0.07578182 0.07539394\n",
      " 0.08174545 0.07718788 0.08123636 0.08075152 0.0806303  0.07682424\n",
      " 0.0752     0.0744     0.07629091 0.07260606 0.07830303 0.07832727\n",
      " 0.08036364 0.08130909 0.07883636 0.08184242 0.0894303  0.08739394\n",
      " 0.0886303  0.09260606 0.08938182 0.09384242 0.09791515 0.09723636\n",
      " 0.09653333 0.09580606 0.09879085 0.09957217 0.10032041 0.1010889\n",
      " 0.10189435 0.10273796 0.10361616 0.10452473 0.10545994 0.10641832\n",
      " 0.10739652 0.10839103 0.10939827 0.11041482]\n",
      "14 day output [[0.11143743]]\n",
      "15 day input [0.06642424 0.06707879 0.08290909 0.07643636 0.06901818 0.06433939\n",
      " 0.06746667 0.0552     0.06665455 0.06397576 0.06877576 0.06652121\n",
      " 0.07369697 0.07752727 0.07556364 0.06530909 0.064      0.07224242\n",
      " 0.07018182 0.06424242 0.06545455 0.06695758 0.06739394 0.06378182\n",
      " 0.06923636 0.07129697 0.07832727 0.07907879 0.08317576 0.08913939\n",
      " 0.09552727 0.09127273 0.09900606 0.09318788 0.09917576 0.09835152\n",
      " 0.1        0.09580606 0.09675152 0.0929697  0.09873939 0.09970909\n",
      " 0.09890909 0.09694545 0.09670303 0.09180606 0.09442424 0.08305455\n",
      " 0.08366061 0.08763636 0.08877576 0.0806303  0.07835152 0.07073939\n",
      " 0.07607273 0.08208485 0.07922424 0.07578182 0.07539394 0.08174545\n",
      " 0.07718788 0.08123636 0.08075152 0.0806303  0.07682424 0.0752\n",
      " 0.0744     0.07629091 0.07260606 0.07830303 0.07832727 0.08036364\n",
      " 0.08130909 0.07883636 0.08184242 0.0894303  0.08739394 0.0886303\n",
      " 0.09260606 0.08938182 0.09384242 0.09791515 0.09723636 0.09653333\n",
      " 0.09580606 0.09879085 0.09957217 0.10032041 0.1010889  0.10189435\n",
      " 0.10273796 0.10361616 0.10452473 0.10545994 0.10641832 0.10739652\n",
      " 0.10839103 0.10939827 0.11041482 0.11143743]\n",
      "15 day output [[0.1124633]]\n",
      "16 day input [0.06707879 0.08290909 0.07643636 0.06901818 0.06433939 0.06746667\n",
      " 0.0552     0.06665455 0.06397576 0.06877576 0.06652121 0.07369697\n",
      " 0.07752727 0.07556364 0.06530909 0.064      0.07224242 0.07018182\n",
      " 0.06424242 0.06545455 0.06695758 0.06739394 0.06378182 0.06923636\n",
      " 0.07129697 0.07832727 0.07907879 0.08317576 0.08913939 0.09552727\n",
      " 0.09127273 0.09900606 0.09318788 0.09917576 0.09835152 0.1\n",
      " 0.09580606 0.09675152 0.0929697  0.09873939 0.09970909 0.09890909\n",
      " 0.09694545 0.09670303 0.09180606 0.09442424 0.08305455 0.08366061\n",
      " 0.08763636 0.08877576 0.0806303  0.07835152 0.07073939 0.07607273\n",
      " 0.08208485 0.07922424 0.07578182 0.07539394 0.08174545 0.07718788\n",
      " 0.08123636 0.08075152 0.0806303  0.07682424 0.0752     0.0744\n",
      " 0.07629091 0.07260606 0.07830303 0.07832727 0.08036364 0.08130909\n",
      " 0.07883636 0.08184242 0.0894303  0.08739394 0.0886303  0.09260606\n",
      " 0.08938182 0.09384242 0.09791515 0.09723636 0.09653333 0.09580606\n",
      " 0.09879085 0.09957217 0.10032041 0.1010889  0.10189435 0.10273796\n",
      " 0.10361616 0.10452473 0.10545994 0.10641832 0.10739652 0.10839103\n",
      " 0.10939827 0.11041482 0.11143743 0.1124633 ]\n",
      "16 day output [[0.11349016]]\n",
      "17 day input [0.08290909 0.07643636 0.06901818 0.06433939 0.06746667 0.0552\n",
      " 0.06665455 0.06397576 0.06877576 0.06652121 0.07369697 0.07752727\n",
      " 0.07556364 0.06530909 0.064      0.07224242 0.07018182 0.06424242\n",
      " 0.06545455 0.06695758 0.06739394 0.06378182 0.06923636 0.07129697\n",
      " 0.07832727 0.07907879 0.08317576 0.08913939 0.09552727 0.09127273\n",
      " 0.09900606 0.09318788 0.09917576 0.09835152 0.1        0.09580606\n",
      " 0.09675152 0.0929697  0.09873939 0.09970909 0.09890909 0.09694545\n",
      " 0.09670303 0.09180606 0.09442424 0.08305455 0.08366061 0.08763636\n",
      " 0.08877576 0.0806303  0.07835152 0.07073939 0.07607273 0.08208485\n",
      " 0.07922424 0.07578182 0.07539394 0.08174545 0.07718788 0.08123636\n",
      " 0.08075152 0.0806303  0.07682424 0.0752     0.0744     0.07629091\n",
      " 0.07260606 0.07830303 0.07832727 0.08036364 0.08130909 0.07883636\n",
      " 0.08184242 0.0894303  0.08739394 0.0886303  0.09260606 0.08938182\n",
      " 0.09384242 0.09791515 0.09723636 0.09653333 0.09580606 0.09879085\n",
      " 0.09957217 0.10032041 0.1010889  0.10189435 0.10273796 0.10361616\n",
      " 0.10452473 0.10545994 0.10641832 0.10739652 0.10839103 0.10939827\n",
      " 0.11041482 0.11143743 0.1124633  0.11349016]\n",
      "17 day output [[0.1145162]]\n",
      "18 day input [0.07643636 0.06901818 0.06433939 0.06746667 0.0552     0.06665455\n",
      " 0.06397576 0.06877576 0.06652121 0.07369697 0.07752727 0.07556364\n",
      " 0.06530909 0.064      0.07224242 0.07018182 0.06424242 0.06545455\n",
      " 0.06695758 0.06739394 0.06378182 0.06923636 0.07129697 0.07832727\n",
      " 0.07907879 0.08317576 0.08913939 0.09552727 0.09127273 0.09900606\n",
      " 0.09318788 0.09917576 0.09835152 0.1        0.09580606 0.09675152\n",
      " 0.0929697  0.09873939 0.09970909 0.09890909 0.09694545 0.09670303\n",
      " 0.09180606 0.09442424 0.08305455 0.08366061 0.08763636 0.08877576\n",
      " 0.0806303  0.07835152 0.07073939 0.07607273 0.08208485 0.07922424\n",
      " 0.07578182 0.07539394 0.08174545 0.07718788 0.08123636 0.08075152\n",
      " 0.0806303  0.07682424 0.0752     0.0744     0.07629091 0.07260606\n",
      " 0.07830303 0.07832727 0.08036364 0.08130909 0.07883636 0.08184242\n",
      " 0.0894303  0.08739394 0.0886303  0.09260606 0.08938182 0.09384242\n",
      " 0.09791515 0.09723636 0.09653333 0.09580606 0.09879085 0.09957217\n",
      " 0.10032041 0.1010889  0.10189435 0.10273796 0.10361616 0.10452473\n",
      " 0.10545994 0.10641832 0.10739652 0.10839103 0.10939827 0.11041482\n",
      " 0.11143743 0.1124633  0.11349016 0.1145162 ]\n",
      "18 day output [[0.11554022]]\n",
      "19 day input [0.06901818 0.06433939 0.06746667 0.0552     0.06665455 0.06397576\n",
      " 0.06877576 0.06652121 0.07369697 0.07752727 0.07556364 0.06530909\n",
      " 0.064      0.07224242 0.07018182 0.06424242 0.06545455 0.06695758\n",
      " 0.06739394 0.06378182 0.06923636 0.07129697 0.07832727 0.07907879\n",
      " 0.08317576 0.08913939 0.09552727 0.09127273 0.09900606 0.09318788\n",
      " 0.09917576 0.09835152 0.1        0.09580606 0.09675152 0.0929697\n",
      " 0.09873939 0.09970909 0.09890909 0.09694545 0.09670303 0.09180606\n",
      " 0.09442424 0.08305455 0.08366061 0.08763636 0.08877576 0.0806303\n",
      " 0.07835152 0.07073939 0.07607273 0.08208485 0.07922424 0.07578182\n",
      " 0.07539394 0.08174545 0.07718788 0.08123636 0.08075152 0.0806303\n",
      " 0.07682424 0.0752     0.0744     0.07629091 0.07260606 0.07830303\n",
      " 0.07832727 0.08036364 0.08130909 0.07883636 0.08184242 0.0894303\n",
      " 0.08739394 0.0886303  0.09260606 0.08938182 0.09384242 0.09791515\n",
      " 0.09723636 0.09653333 0.09580606 0.09879085 0.09957217 0.10032041\n",
      " 0.1010889  0.10189435 0.10273796 0.10361616 0.10452473 0.10545994\n",
      " 0.10641832 0.10739652 0.10839103 0.10939827 0.11041482 0.11143743\n",
      " 0.1124633  0.11349016 0.1145162  0.11554022]\n",
      "19 day output [[0.1165615]]\n",
      "20 day input [0.06433939 0.06746667 0.0552     0.06665455 0.06397576 0.06877576\n",
      " 0.06652121 0.07369697 0.07752727 0.07556364 0.06530909 0.064\n",
      " 0.07224242 0.07018182 0.06424242 0.06545455 0.06695758 0.06739394\n",
      " 0.06378182 0.06923636 0.07129697 0.07832727 0.07907879 0.08317576\n",
      " 0.08913939 0.09552727 0.09127273 0.09900606 0.09318788 0.09917576\n",
      " 0.09835152 0.1        0.09580606 0.09675152 0.0929697  0.09873939\n",
      " 0.09970909 0.09890909 0.09694545 0.09670303 0.09180606 0.09442424\n",
      " 0.08305455 0.08366061 0.08763636 0.08877576 0.0806303  0.07835152\n",
      " 0.07073939 0.07607273 0.08208485 0.07922424 0.07578182 0.07539394\n",
      " 0.08174545 0.07718788 0.08123636 0.08075152 0.0806303  0.07682424\n",
      " 0.0752     0.0744     0.07629091 0.07260606 0.07830303 0.07832727\n",
      " 0.08036364 0.08130909 0.07883636 0.08184242 0.0894303  0.08739394\n",
      " 0.0886303  0.09260606 0.08938182 0.09384242 0.09791515 0.09723636\n",
      " 0.09653333 0.09580606 0.09879085 0.09957217 0.10032041 0.1010889\n",
      " 0.10189435 0.10273796 0.10361616 0.10452473 0.10545994 0.10641832\n",
      " 0.10739652 0.10839103 0.10939827 0.11041482 0.11143743 0.1124633\n",
      " 0.11349016 0.1145162  0.11554022 0.1165615 ]\n",
      "20 day output [[0.11757974]]\n",
      "21 day input [0.06746667 0.0552     0.06665455 0.06397576 0.06877576 0.06652121\n",
      " 0.07369697 0.07752727 0.07556364 0.06530909 0.064      0.07224242\n",
      " 0.07018182 0.06424242 0.06545455 0.06695758 0.06739394 0.06378182\n",
      " 0.06923636 0.07129697 0.07832727 0.07907879 0.08317576 0.08913939\n",
      " 0.09552727 0.09127273 0.09900606 0.09318788 0.09917576 0.09835152\n",
      " 0.1        0.09580606 0.09675152 0.0929697  0.09873939 0.09970909\n",
      " 0.09890909 0.09694545 0.09670303 0.09180606 0.09442424 0.08305455\n",
      " 0.08366061 0.08763636 0.08877576 0.0806303  0.07835152 0.07073939\n",
      " 0.07607273 0.08208485 0.07922424 0.07578182 0.07539394 0.08174545\n",
      " 0.07718788 0.08123636 0.08075152 0.0806303  0.07682424 0.0752\n",
      " 0.0744     0.07629091 0.07260606 0.07830303 0.07832727 0.08036364\n",
      " 0.08130909 0.07883636 0.08184242 0.0894303  0.08739394 0.0886303\n",
      " 0.09260606 0.08938182 0.09384242 0.09791515 0.09723636 0.09653333\n",
      " 0.09580606 0.09879085 0.09957217 0.10032041 0.1010889  0.10189435\n",
      " 0.10273796 0.10361616 0.10452473 0.10545994 0.10641832 0.10739652\n",
      " 0.10839103 0.10939827 0.11041482 0.11143743 0.1124633  0.11349016\n",
      " 0.1145162  0.11554022 0.1165615  0.11757974]\n",
      "21 day output [[0.11859497]]\n",
      "22 day input [0.0552     0.06665455 0.06397576 0.06877576 0.06652121 0.07369697\n",
      " 0.07752727 0.07556364 0.06530909 0.064      0.07224242 0.07018182\n",
      " 0.06424242 0.06545455 0.06695758 0.06739394 0.06378182 0.06923636\n",
      " 0.07129697 0.07832727 0.07907879 0.08317576 0.08913939 0.09552727\n",
      " 0.09127273 0.09900606 0.09318788 0.09917576 0.09835152 0.1\n",
      " 0.09580606 0.09675152 0.0929697  0.09873939 0.09970909 0.09890909\n",
      " 0.09694545 0.09670303 0.09180606 0.09442424 0.08305455 0.08366061\n",
      " 0.08763636 0.08877576 0.0806303  0.07835152 0.07073939 0.07607273\n",
      " 0.08208485 0.07922424 0.07578182 0.07539394 0.08174545 0.07718788\n",
      " 0.08123636 0.08075152 0.0806303  0.07682424 0.0752     0.0744\n",
      " 0.07629091 0.07260606 0.07830303 0.07832727 0.08036364 0.08130909\n",
      " 0.07883636 0.08184242 0.0894303  0.08739394 0.0886303  0.09260606\n",
      " 0.08938182 0.09384242 0.09791515 0.09723636 0.09653333 0.09580606\n",
      " 0.09879085 0.09957217 0.10032041 0.1010889  0.10189435 0.10273796\n",
      " 0.10361616 0.10452473 0.10545994 0.10641832 0.10739652 0.10839103\n",
      " 0.10939827 0.11041482 0.11143743 0.1124633  0.11349016 0.1145162\n",
      " 0.11554022 0.1165615  0.11757974 0.11859497]\n",
      "22 day output [[0.11960761]]\n",
      "23 day input [0.06665455 0.06397576 0.06877576 0.06652121 0.07369697 0.07752727\n",
      " 0.07556364 0.06530909 0.064      0.07224242 0.07018182 0.06424242\n",
      " 0.06545455 0.06695758 0.06739394 0.06378182 0.06923636 0.07129697\n",
      " 0.07832727 0.07907879 0.08317576 0.08913939 0.09552727 0.09127273\n",
      " 0.09900606 0.09318788 0.09917576 0.09835152 0.1        0.09580606\n",
      " 0.09675152 0.0929697  0.09873939 0.09970909 0.09890909 0.09694545\n",
      " 0.09670303 0.09180606 0.09442424 0.08305455 0.08366061 0.08763636\n",
      " 0.08877576 0.0806303  0.07835152 0.07073939 0.07607273 0.08208485\n",
      " 0.07922424 0.07578182 0.07539394 0.08174545 0.07718788 0.08123636\n",
      " 0.08075152 0.0806303  0.07682424 0.0752     0.0744     0.07629091\n",
      " 0.07260606 0.07830303 0.07832727 0.08036364 0.08130909 0.07883636\n",
      " 0.08184242 0.0894303  0.08739394 0.0886303  0.09260606 0.08938182\n",
      " 0.09384242 0.09791515 0.09723636 0.09653333 0.09580606 0.09879085\n",
      " 0.09957217 0.10032041 0.1010889  0.10189435 0.10273796 0.10361616\n",
      " 0.10452473 0.10545994 0.10641832 0.10739652 0.10839103 0.10939827\n",
      " 0.11041482 0.11143743 0.1124633  0.11349016 0.1145162  0.11554022\n",
      " 0.1165615  0.11757974 0.11859497 0.11960761]\n",
      "23 day output [[0.12061815]]\n",
      "24 day input [0.06397576 0.06877576 0.06652121 0.07369697 0.07752727 0.07556364\n",
      " 0.06530909 0.064      0.07224242 0.07018182 0.06424242 0.06545455\n",
      " 0.06695758 0.06739394 0.06378182 0.06923636 0.07129697 0.07832727\n",
      " 0.07907879 0.08317576 0.08913939 0.09552727 0.09127273 0.09900606\n",
      " 0.09318788 0.09917576 0.09835152 0.1        0.09580606 0.09675152\n",
      " 0.0929697  0.09873939 0.09970909 0.09890909 0.09694545 0.09670303\n",
      " 0.09180606 0.09442424 0.08305455 0.08366061 0.08763636 0.08877576\n",
      " 0.0806303  0.07835152 0.07073939 0.07607273 0.08208485 0.07922424\n",
      " 0.07578182 0.07539394 0.08174545 0.07718788 0.08123636 0.08075152\n",
      " 0.0806303  0.07682424 0.0752     0.0744     0.07629091 0.07260606\n",
      " 0.07830303 0.07832727 0.08036364 0.08130909 0.07883636 0.08184242\n",
      " 0.0894303  0.08739394 0.0886303  0.09260606 0.08938182 0.09384242\n",
      " 0.09791515 0.09723636 0.09653333 0.09580606 0.09879085 0.09957217\n",
      " 0.10032041 0.1010889  0.10189435 0.10273796 0.10361616 0.10452473\n",
      " 0.10545994 0.10641832 0.10739652 0.10839103 0.10939827 0.11041482\n",
      " 0.11143743 0.1124633  0.11349016 0.1145162  0.11554022 0.1165615\n",
      " 0.11757974 0.11859497 0.11960761 0.12061815]\n",
      "24 day output [[0.12162725]]\n",
      "25 day input [0.06877576 0.06652121 0.07369697 0.07752727 0.07556364 0.06530909\n",
      " 0.064      0.07224242 0.07018182 0.06424242 0.06545455 0.06695758\n",
      " 0.06739394 0.06378182 0.06923636 0.07129697 0.07832727 0.07907879\n",
      " 0.08317576 0.08913939 0.09552727 0.09127273 0.09900606 0.09318788\n",
      " 0.09917576 0.09835152 0.1        0.09580606 0.09675152 0.0929697\n",
      " 0.09873939 0.09970909 0.09890909 0.09694545 0.09670303 0.09180606\n",
      " 0.09442424 0.08305455 0.08366061 0.08763636 0.08877576 0.0806303\n",
      " 0.07835152 0.07073939 0.07607273 0.08208485 0.07922424 0.07578182\n",
      " 0.07539394 0.08174545 0.07718788 0.08123636 0.08075152 0.0806303\n",
      " 0.07682424 0.0752     0.0744     0.07629091 0.07260606 0.07830303\n",
      " 0.07832727 0.08036364 0.08130909 0.07883636 0.08184242 0.0894303\n",
      " 0.08739394 0.0886303  0.09260606 0.08938182 0.09384242 0.09791515\n",
      " 0.09723636 0.09653333 0.09580606 0.09879085 0.09957217 0.10032041\n",
      " 0.1010889  0.10189435 0.10273796 0.10361616 0.10452473 0.10545994\n",
      " 0.10641832 0.10739652 0.10839103 0.10939827 0.11041482 0.11143743\n",
      " 0.1124633  0.11349016 0.1145162  0.11554022 0.1165615  0.11757974\n",
      " 0.11859497 0.11960761 0.12061815 0.12162725]\n",
      "25 day output [[0.12263569]]\n",
      "26 day input [0.06652121 0.07369697 0.07752727 0.07556364 0.06530909 0.064\n",
      " 0.07224242 0.07018182 0.06424242 0.06545455 0.06695758 0.06739394\n",
      " 0.06378182 0.06923636 0.07129697 0.07832727 0.07907879 0.08317576\n",
      " 0.08913939 0.09552727 0.09127273 0.09900606 0.09318788 0.09917576\n",
      " 0.09835152 0.1        0.09580606 0.09675152 0.0929697  0.09873939\n",
      " 0.09970909 0.09890909 0.09694545 0.09670303 0.09180606 0.09442424\n",
      " 0.08305455 0.08366061 0.08763636 0.08877576 0.0806303  0.07835152\n",
      " 0.07073939 0.07607273 0.08208485 0.07922424 0.07578182 0.07539394\n",
      " 0.08174545 0.07718788 0.08123636 0.08075152 0.0806303  0.07682424\n",
      " 0.0752     0.0744     0.07629091 0.07260606 0.07830303 0.07832727\n",
      " 0.08036364 0.08130909 0.07883636 0.08184242 0.0894303  0.08739394\n",
      " 0.0886303  0.09260606 0.08938182 0.09384242 0.09791515 0.09723636\n",
      " 0.09653333 0.09580606 0.09879085 0.09957217 0.10032041 0.1010889\n",
      " 0.10189435 0.10273796 0.10361616 0.10452473 0.10545994 0.10641832\n",
      " 0.10739652 0.10839103 0.10939827 0.11041482 0.11143743 0.1124633\n",
      " 0.11349016 0.1145162  0.11554022 0.1165615  0.11757974 0.11859497\n",
      " 0.11960761 0.12061815 0.12162725 0.12263569]\n",
      "26 day output [[0.12364414]]\n",
      "27 day input [0.07369697 0.07752727 0.07556364 0.06530909 0.064      0.07224242\n",
      " 0.07018182 0.06424242 0.06545455 0.06695758 0.06739394 0.06378182\n",
      " 0.06923636 0.07129697 0.07832727 0.07907879 0.08317576 0.08913939\n",
      " 0.09552727 0.09127273 0.09900606 0.09318788 0.09917576 0.09835152\n",
      " 0.1        0.09580606 0.09675152 0.0929697  0.09873939 0.09970909\n",
      " 0.09890909 0.09694545 0.09670303 0.09180606 0.09442424 0.08305455\n",
      " 0.08366061 0.08763636 0.08877576 0.0806303  0.07835152 0.07073939\n",
      " 0.07607273 0.08208485 0.07922424 0.07578182 0.07539394 0.08174545\n",
      " 0.07718788 0.08123636 0.08075152 0.0806303  0.07682424 0.0752\n",
      " 0.0744     0.07629091 0.07260606 0.07830303 0.07832727 0.08036364\n",
      " 0.08130909 0.07883636 0.08184242 0.0894303  0.08739394 0.0886303\n",
      " 0.09260606 0.08938182 0.09384242 0.09791515 0.09723636 0.09653333\n",
      " 0.09580606 0.09879085 0.09957217 0.10032041 0.1010889  0.10189435\n",
      " 0.10273796 0.10361616 0.10452473 0.10545994 0.10641832 0.10739652\n",
      " 0.10839103 0.10939827 0.11041482 0.11143743 0.1124633  0.11349016\n",
      " 0.1145162  0.11554022 0.1165615  0.11757974 0.11859497 0.11960761\n",
      " 0.12061815 0.12162725 0.12263569 0.12364414]\n",
      "27 day output [[0.12465328]]\n",
      "28 day input [0.07752727 0.07556364 0.06530909 0.064      0.07224242 0.07018182\n",
      " 0.06424242 0.06545455 0.06695758 0.06739394 0.06378182 0.06923636\n",
      " 0.07129697 0.07832727 0.07907879 0.08317576 0.08913939 0.09552727\n",
      " 0.09127273 0.09900606 0.09318788 0.09917576 0.09835152 0.1\n",
      " 0.09580606 0.09675152 0.0929697  0.09873939 0.09970909 0.09890909\n",
      " 0.09694545 0.09670303 0.09180606 0.09442424 0.08305455 0.08366061\n",
      " 0.08763636 0.08877576 0.0806303  0.07835152 0.07073939 0.07607273\n",
      " 0.08208485 0.07922424 0.07578182 0.07539394 0.08174545 0.07718788\n",
      " 0.08123636 0.08075152 0.0806303  0.07682424 0.0752     0.0744\n",
      " 0.07629091 0.07260606 0.07830303 0.07832727 0.08036364 0.08130909\n",
      " 0.07883636 0.08184242 0.0894303  0.08739394 0.0886303  0.09260606\n",
      " 0.08938182 0.09384242 0.09791515 0.09723636 0.09653333 0.09580606\n",
      " 0.09879085 0.09957217 0.10032041 0.1010889  0.10189435 0.10273796\n",
      " 0.10361616 0.10452473 0.10545994 0.10641832 0.10739652 0.10839103\n",
      " 0.10939827 0.11041482 0.11143743 0.1124633  0.11349016 0.1145162\n",
      " 0.11554022 0.1165615  0.11757974 0.11859497 0.11960761 0.12061815\n",
      " 0.12162725 0.12263569 0.12364414 0.12465328]\n",
      "28 day output [[0.1256637]]\n",
      "29 day input [0.07556364 0.06530909 0.064      0.07224242 0.07018182 0.06424242\n",
      " 0.06545455 0.06695758 0.06739394 0.06378182 0.06923636 0.07129697\n",
      " 0.07832727 0.07907879 0.08317576 0.08913939 0.09552727 0.09127273\n",
      " 0.09900606 0.09318788 0.09917576 0.09835152 0.1        0.09580606\n",
      " 0.09675152 0.0929697  0.09873939 0.09970909 0.09890909 0.09694545\n",
      " 0.09670303 0.09180606 0.09442424 0.08305455 0.08366061 0.08763636\n",
      " 0.08877576 0.0806303  0.07835152 0.07073939 0.07607273 0.08208485\n",
      " 0.07922424 0.07578182 0.07539394 0.08174545 0.07718788 0.08123636\n",
      " 0.08075152 0.0806303  0.07682424 0.0752     0.0744     0.07629091\n",
      " 0.07260606 0.07830303 0.07832727 0.08036364 0.08130909 0.07883636\n",
      " 0.08184242 0.0894303  0.08739394 0.0886303  0.09260606 0.08938182\n",
      " 0.09384242 0.09791515 0.09723636 0.09653333 0.09580606 0.09879085\n",
      " 0.09957217 0.10032041 0.1010889  0.10189435 0.10273796 0.10361616\n",
      " 0.10452473 0.10545994 0.10641832 0.10739652 0.10839103 0.10939827\n",
      " 0.11041482 0.11143743 0.1124633  0.11349016 0.1145162  0.11554022\n",
      " 0.1165615  0.11757974 0.11859497 0.11960761 0.12061815 0.12162725\n",
      " 0.12263569 0.12364414 0.12465328 0.1256637 ]\n",
      "29 day output [[0.12667596]]\n",
      "[[0.09879084676504135], [0.09957217425107956], [0.10032041370868683], [0.10108889639377594], [0.10189434885978699], [0.10273795574903488], [0.1036161556839943], [0.10452473163604736], [0.10545993596315384], [0.10641831904649734], [0.10739652067422867], [0.10839103162288666], [0.1093982681632042], [0.11041481792926788], [0.11143742501735687], [0.11246329545974731], [0.11349016427993774], [0.11451619863510132], [0.11554022133350372], [0.11656150221824646], [0.11757973581552505], [0.11859497427940369], [0.11960761249065399], [0.12061814963817596], [0.12162724882364273], [0.12263569235801697], [0.1236441358923912], [0.12465327978134155], [0.12566369771957397], [0.12667596340179443]]\n"
     ]
    }
   ],
   "source": [
    "# demonstrate prediction for next 10 days\n",
    "from numpy import array\n",
    "\n",
    "lst_output=[]\n",
    "n_steps=100\n",
    "i=0\n",
    "while(i<30):\n",
    "    \n",
    "    if(len(temp_input)>100):\n",
    "        #print(temp_input)\n",
    "        x_input=np.array(temp_input[1:])\n",
    "        print(\"{} day input {}\".format(i,x_input))\n",
    "        x_input=x_input.reshape(1,-1)\n",
    "        x_input = x_input.reshape((1, n_steps, 1))\n",
    "        #print(x_input)\n",
    "        yhat = model.predict(x_input, verbose=0)\n",
    "        print(\"{} day output {}\".format(i,yhat))\n",
    "        temp_input.extend(yhat[0].tolist())\n",
    "        temp_input=temp_input[1:]\n",
    "        #print(temp_input)\n",
    "        lst_output.extend(yhat.tolist())\n",
    "        i=i+1\n",
    "    else:\n",
    "        x_input = x_input.reshape((1, n_steps,1))\n",
    "        yhat = model.predict(x_input, verbose=0)\n",
    "        print(yhat[0])\n",
    "        temp_input.extend(yhat[0].tolist())\n",
    "        print(len(temp_input))\n",
    "        lst_output.extend(yhat.tolist())\n",
    "        i=i+1\n",
    "    \n",
    "\n",
    "print(lst_output)"
   ]
  },
  {
   "cell_type": "code",
   "execution_count": 49,
   "metadata": {},
   "outputs": [],
   "source": [
    "day_new = np.arange(1,101)\n",
    "day_pred = np.arange(101,131)"
   ]
  },
  {
   "cell_type": "code",
   "execution_count": 50,
   "metadata": {},
   "outputs": [],
   "source": [
    "import matplotlib.pyplot as plt"
   ]
  },
  {
   "cell_type": "code",
   "execution_count": 51,
   "metadata": {},
   "outputs": [
    {
     "data": {
      "text/plain": [
       "1258"
      ]
     },
     "execution_count": 51,
     "metadata": {},
     "output_type": "execute_result"
    }
   ],
   "source": [
    "len(df1)"
   ]
  },
  {
   "cell_type": "code",
   "execution_count": 52,
   "metadata": {},
   "outputs": [
    {
     "data": {
      "text/plain": [
       "[<matplotlib.lines.Line2D at 0x7fb92d131ee0>]"
      ]
     },
     "execution_count": 52,
     "metadata": {},
     "output_type": "execute_result"
    },
    {
     "data": {
      "image/png": "[encoded data removed]",
      "text/plain": [
       "<Figure size 432x288 with 1 Axes>"
      ]
     },
     "metadata": {
      "needs_background": "light"
     },
     "output_type": "display_data"
    }
   ],
   "source": [
    "plt.plot(day_new,scaler.inverse_transform(df1[1158:]))\n",
    "plt.plot(day_pred,scaler.inverse_transform(lst_output))"
   ]
  },
  {
   "cell_type": "code",
   "execution_count": 53,
   "metadata": {},
   "outputs": [
    {
     "data": {
      "text/plain": [
       "[<matplotlib.lines.Line2D at 0x7fb937bf1220>]"
      ]
     },
     "execution_count": 53,
     "metadata": {},
     "output_type": "execute_result"
    },
    {
     "data": {
      "image/png": "[encoded data removed]",
      "text/plain": [
       "<Figure size 432x288 with 1 Axes>"
      ]
     },
     "metadata": {
      "needs_background": "light"
     },
     "output_type": "display_data"
    }
   ],
   "source": [
    "df3=df1.tolist()\n",
    "df3.extend(lst_output)\n",
    "plt.plot(df3[1200:])"
   ]
  },
  {
   "cell_type": "code",
   "execution_count": 54,
   "metadata": {},
   "outputs": [
    {
     "data": {
      "text/plain": [
       "[<matplotlib.lines.Line2D at 0x7fb937acf250>]"
      ]
     },
     "execution_count": 54,
     "metadata": {},
     "output_type": "execute_result"
    },
    {
     "data": {
      "image/png": "[encoded data removed]",
      "text/plain": [
       "<Figure size 432x288 with 1 Axes>"
      ]
     },
     "metadata": {
      "needs_background": "light"
     },
     "output_type": "display_data"
    }
   ],
   "source": [
    "df3=scaler.inverse_transform(df3).tolist()\n",
    "plt.plot(df3)"
   ]
  },
  {
   "cell_type": "code",
   "execution_count": null,
   "metadata": {},
   "outputs": [],
   "source": []
  }
 ],
 "metadata": {
  "kernelspec": {
   "display_name": "Python 3",
   "language": "python",
   "name": "python3"
  },
  "language_info": {
   "codemirror_mode": {
    "name": "ipython",
    "version": 3
   },
   "file_extension": ".py",
   "mimetype": "text/x-python",
   "name": "python",
   "nbconvert_exporter": "python",
   "pygments_lexer": "ipython3",
   "version": "3.8.5"
  }
 },
 "nbformat": 4,
 "nbformat_minor": 4
}
